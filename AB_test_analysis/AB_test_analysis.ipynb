{
 "cells": [
  {
   "cell_type": "markdown",
   "metadata": {},
   "source": [
    "# Cодержанние\n",
    "- [Изучение данных из файла](#Изучение-данных-из-файла)\n",
    "    - [Вывод](#Вывод)\n",
    "- [Приоритизация гипотез](#Приоритизация-гипотез)\n",
    "    - [Фреймворк ICE для приоритизации гипотез](#Фреймворк-ICE-для-приоритизации-гипотез)\n",
    "    - [Фреймворк RICE для приоритизации гипотез](#Фреймворк-RICE-для-приоритизации-гипотез)\n",
    "    - [Вывод](#Вывод)\n",
    "- [Анализ A/B-тест](#Анализ-A/B-тест)\n",
    "    - [График кумулятивной выручки по группам](#График-кумулятивной-выручки-по-группам)\n",
    "    - [График кумулятивного среднего чека по группам](#График-кумулятивного-среднего-чека-по-группам)\n",
    "    - [График относительного изменения кумулятивного среднего чека](#График-относительного-изменения-кумулятивного-среднего-чека)\n",
    "    - [График кумулятивной конверсии по группам](#График-кумулятивной-конверсии-по-группам)\n",
    "    - [График относительного изменения кумулятивной конверсии](#График-относительного-изменения-кумулятивной-конверсии)\n",
    "    - [Точечный график количества заказов по пользователям](#Точечный-график-количества-заказов-по-пользователям)\n",
    "    - [Точечный график стоимостей заказов](#Точечный-график-стоимостей-заказов)\n",
    "    - [Cтатистическая значимость различий в конверсии по «сырым» данным ](#Cтатистическая-значимость-различий-в-конверсии-по-«сырым»-данным )\n",
    "    - [Cтатистическая значимость различий в среднем чеке заказа по «сырым» данным](#Cтатистическая-значимость-различий-в-среднем-чеке-заказа-по-«сырым»-данным)\n",
    "    - [Cтатистическая значимость различий в конверсии между группами по «очищенным» данным](#Cтатистическая-значимость-различий-в-конверсии-между-группами-по-«очищенным»-данным)\n",
    "    - [Cтатистическая значимость различий в среднем чеке заказа между группами по «очищенным» данным](#Cтатистическая-значимость-различий-в-среднем-чеке-заказа-между-группами-по-«очищенным»-данным)\n",
    "    - [Вывод](#Вывод)"
   ]
  },
  {
   "cell_type": "markdown",
   "metadata": {},
   "source": [
    "**Цели исследования:**\n",
    "\n",
    "1. Приоритизировать гипотезы\n",
    "2. Запустить A/B-тест\n",
    "3. Проанализировать результаты"
   ]
  },
  {
   "attachments": {},
   "cell_type": "markdown",
   "metadata": {},
   "source": [
    "**Ход исследования:**\n",
    "\n",
    "1. Изучим данные\n",
    "2. Приоритизация гипотез\n",
    "    - Применить фреймворк ICE для приоритизации гипотез. Отсортировать их по убыванию приоритета.\n",
    "    - Применить фреймворк RICE для приоритизации гипотез. Отсортировать их по убыванию приоритета.\n",
    "    - Указать, как изменилась приоритизация гипотез при применении RICE вместо ICE. Объяснить, почему так произошло.\n",
    "3. Анализ A/B-теста\n",
    "    - Постройте график кумулятивной выручки по группам. Сделайте выводы и предположения.\n",
    "    - Постройте график кумулятивного среднего чека по группам. Сделайте выводы и предположения.\n",
    "    - Постройте график относительного изменения кумулятивного среднего чека группы B к группе A. Сделайте выводы и предположения.\n",
    "    - Постройте график кумулятивной конверсии по группам. Сделайте выводы и предположения.\n",
    "    - Постройте график относительного изменения кумулятивной конверсии группы B к группе A. Сделайте выводы и предположения.\n",
    "    - Постройте точечный график количества заказов по пользователям. Сделайте выводы и предположения.\n",
    "    - Посчитайте 95-й и 99-й перцентили количества заказов на пользователя. Выберите границу для определения аномальных пользователей.\n",
    "    - Постройте точечный график стоимостей заказов. Сделайте выводы и предположения.\n",
    "    - Посчитайте 95-й и 99-й перцентили стоимости заказов. Выберите границу для определения аномальных заказов.\n",
    "    - Посчитайте статистическую значимость различий в конверсии между группами по «сырым» данным. Сделайте выводы и предположения.\n",
    "    - Посчитайте статистическую значимость различий в среднем чеке заказа между группами по «сырым» данным. Сделайте выводы и предположения.\n",
    "    - Посчитайте статистическую значимость различий в конверсии между группами по «очищенным» данным. Сделайте выводы и предположения.\n",
    "    - Посчитайте статистическую значимость различий в среднем чеке заказа между группами по «очищенным» данным. Сделайте выводы и предположения.\n",
    "    - Примите решение по результатам теста и объясните его. Варианты решений: \n",
    "        - 1. Остановить тест, зафиксировать победу одной из групп. \n",
    "        - 2. Остановить тест, зафиксировать отсутствие различий между группами. \n",
    "        - 3. Продолжить тест."
   ]
  },
  {
   "cell_type": "markdown",
   "metadata": {},
   "source": [
    "## Изучение данных из файла"
   ]
  },
  {
   "cell_type": "code",
   "execution_count": 1,
   "metadata": {},
   "outputs": [],
   "source": [
    "import pandas as pd\n",
    "import numpy as np\n",
    "import matplotlib.pyplot as plt\n",
    "import scipy.stats as stats\n",
    "import datetime as dt"
   ]
  },
  {
   "cell_type": "code",
   "execution_count": 2,
   "metadata": {},
   "outputs": [],
   "source": [
    "hypothesis = pd.read_csv('hypothesis.csv')\n",
    "orders = pd.read_csv('orders.csv')\n",
    "visitors = pd.read_csv('visitors.csv')"
   ]
  },
  {
   "cell_type": "code",
   "execution_count": 3,
   "metadata": {},
   "outputs": [
    {
     "name": "stdout",
     "output_type": "stream",
     "text": [
      "___________________________________hypothesis___________________________________\n"
     ]
    },
    {
     "data": {
      "text/html": [
       "<div>\n",
       "<style scoped>\n",
       "    .dataframe tbody tr th:only-of-type {\n",
       "        vertical-align: middle;\n",
       "    }\n",
       "\n",
       "    .dataframe tbody tr th {\n",
       "        vertical-align: top;\n",
       "    }\n",
       "\n",
       "    .dataframe thead th {\n",
       "        text-align: right;\n",
       "    }\n",
       "</style>\n",
       "<table border=\"1\" class=\"dataframe\">\n",
       "  <thead>\n",
       "    <tr style=\"text-align: right;\">\n",
       "      <th></th>\n",
       "      <th>hypothesis</th>\n",
       "      <th>reach</th>\n",
       "      <th>impact</th>\n",
       "      <th>confidence</th>\n",
       "      <th>efforts</th>\n",
       "    </tr>\n",
       "  </thead>\n",
       "  <tbody>\n",
       "    <tr>\n",
       "      <th>0</th>\n",
       "      <td>Добавить два новых канала привлечения трафика,...</td>\n",
       "      <td>3</td>\n",
       "      <td>10</td>\n",
       "      <td>8</td>\n",
       "      <td>6</td>\n",
       "    </tr>\n",
       "    <tr>\n",
       "      <th>1</th>\n",
       "      <td>Запустить собственную службу доставки, что сок...</td>\n",
       "      <td>2</td>\n",
       "      <td>5</td>\n",
       "      <td>4</td>\n",
       "      <td>10</td>\n",
       "    </tr>\n",
       "    <tr>\n",
       "      <th>2</th>\n",
       "      <td>Добавить блоки рекомендаций товаров на сайт ин...</td>\n",
       "      <td>8</td>\n",
       "      <td>3</td>\n",
       "      <td>7</td>\n",
       "      <td>3</td>\n",
       "    </tr>\n",
       "    <tr>\n",
       "      <th>3</th>\n",
       "      <td>Изменить структура категорий, что увеличит кон...</td>\n",
       "      <td>8</td>\n",
       "      <td>3</td>\n",
       "      <td>3</td>\n",
       "      <td>8</td>\n",
       "    </tr>\n",
       "    <tr>\n",
       "      <th>4</th>\n",
       "      <td>Изменить цвет фона главной страницы, чтобы уве...</td>\n",
       "      <td>3</td>\n",
       "      <td>1</td>\n",
       "      <td>1</td>\n",
       "      <td>1</td>\n",
       "    </tr>\n",
       "  </tbody>\n",
       "</table>\n",
       "</div>"
      ],
      "text/plain": [
       "                                          hypothesis  reach  impact  \\\n",
       "0  Добавить два новых канала привлечения трафика,...      3      10   \n",
       "1  Запустить собственную службу доставки, что сок...      2       5   \n",
       "2  Добавить блоки рекомендаций товаров на сайт ин...      8       3   \n",
       "3  Изменить структура категорий, что увеличит кон...      8       3   \n",
       "4  Изменить цвет фона главной страницы, чтобы уве...      3       1   \n",
       "\n",
       "   confidence  efforts  \n",
       "0           8        6  \n",
       "1           4       10  \n",
       "2           7        3  \n",
       "3           3        8  \n",
       "4           1        1  "
      ]
     },
     "metadata": {},
     "output_type": "display_data"
    },
    {
     "name": "stdout",
     "output_type": "stream",
     "text": [
      "---------------------------------------------------------------------------\n",
      "<class 'pandas.core.frame.DataFrame'>\n",
      "RangeIndex: 9 entries, 0 to 8\n",
      "Data columns (total 5 columns):\n",
      " #   Column      Non-Null Count  Dtype \n",
      "---  ------      --------------  ----- \n",
      " 0   hypothesis  9 non-null      object\n",
      " 1   reach       9 non-null      int64 \n",
      " 2   impact      9 non-null      int64 \n",
      " 3   confidence  9 non-null      int64 \n",
      " 4   efforts     9 non-null      int64 \n",
      "dtypes: int64(4), object(1)\n",
      "memory usage: 488.0+ bytes\n",
      "---------------------------------------------------------------------------\n",
      "В датафрейме hypothesis дубликатов не обнаружено\n",
      "___________________________________orders___________________________________\n"
     ]
    },
    {
     "data": {
      "text/html": [
       "<div>\n",
       "<style scoped>\n",
       "    .dataframe tbody tr th:only-of-type {\n",
       "        vertical-align: middle;\n",
       "    }\n",
       "\n",
       "    .dataframe tbody tr th {\n",
       "        vertical-align: top;\n",
       "    }\n",
       "\n",
       "    .dataframe thead th {\n",
       "        text-align: right;\n",
       "    }\n",
       "</style>\n",
       "<table border=\"1\" class=\"dataframe\">\n",
       "  <thead>\n",
       "    <tr style=\"text-align: right;\">\n",
       "      <th></th>\n",
       "      <th>transactionid</th>\n",
       "      <th>visitorid</th>\n",
       "      <th>date</th>\n",
       "      <th>revenue</th>\n",
       "      <th>group</th>\n",
       "    </tr>\n",
       "  </thead>\n",
       "  <tbody>\n",
       "    <tr>\n",
       "      <th>0</th>\n",
       "      <td>3667963787</td>\n",
       "      <td>3312258926</td>\n",
       "      <td>2019-08-15</td>\n",
       "      <td>1650</td>\n",
       "      <td>B</td>\n",
       "    </tr>\n",
       "    <tr>\n",
       "      <th>1</th>\n",
       "      <td>2804400009</td>\n",
       "      <td>3642806036</td>\n",
       "      <td>2019-08-15</td>\n",
       "      <td>730</td>\n",
       "      <td>B</td>\n",
       "    </tr>\n",
       "    <tr>\n",
       "      <th>2</th>\n",
       "      <td>2961555356</td>\n",
       "      <td>4069496402</td>\n",
       "      <td>2019-08-15</td>\n",
       "      <td>400</td>\n",
       "      <td>A</td>\n",
       "    </tr>\n",
       "    <tr>\n",
       "      <th>3</th>\n",
       "      <td>3797467345</td>\n",
       "      <td>1196621759</td>\n",
       "      <td>2019-08-15</td>\n",
       "      <td>9759</td>\n",
       "      <td>B</td>\n",
       "    </tr>\n",
       "    <tr>\n",
       "      <th>4</th>\n",
       "      <td>2282983706</td>\n",
       "      <td>2322279887</td>\n",
       "      <td>2019-08-15</td>\n",
       "      <td>2308</td>\n",
       "      <td>B</td>\n",
       "    </tr>\n",
       "  </tbody>\n",
       "</table>\n",
       "</div>"
      ],
      "text/plain": [
       "   transactionid   visitorid        date  revenue group\n",
       "0     3667963787  3312258926  2019-08-15     1650     B\n",
       "1     2804400009  3642806036  2019-08-15      730     B\n",
       "2     2961555356  4069496402  2019-08-15      400     A\n",
       "3     3797467345  1196621759  2019-08-15     9759     B\n",
       "4     2282983706  2322279887  2019-08-15     2308     B"
      ]
     },
     "metadata": {},
     "output_type": "display_data"
    },
    {
     "name": "stdout",
     "output_type": "stream",
     "text": [
      "---------------------------------------------------------------------------\n",
      "<class 'pandas.core.frame.DataFrame'>\n",
      "RangeIndex: 1197 entries, 0 to 1196\n",
      "Data columns (total 5 columns):\n",
      " #   Column         Non-Null Count  Dtype \n",
      "---  ------         --------------  ----- \n",
      " 0   transactionid  1197 non-null   int64 \n",
      " 1   visitorid      1197 non-null   int64 \n",
      " 2   date           1197 non-null   object\n",
      " 3   revenue        1197 non-null   int64 \n",
      " 4   group          1197 non-null   object\n",
      "dtypes: int64(3), object(2)\n",
      "memory usage: 46.9+ KB\n",
      "---------------------------------------------------------------------------\n",
      "В датафрейме orders дубликатов не обнаружено\n",
      "___________________________________visitors___________________________________\n"
     ]
    },
    {
     "data": {
      "text/html": [
       "<div>\n",
       "<style scoped>\n",
       "    .dataframe tbody tr th:only-of-type {\n",
       "        vertical-align: middle;\n",
       "    }\n",
       "\n",
       "    .dataframe tbody tr th {\n",
       "        vertical-align: top;\n",
       "    }\n",
       "\n",
       "    .dataframe thead th {\n",
       "        text-align: right;\n",
       "    }\n",
       "</style>\n",
       "<table border=\"1\" class=\"dataframe\">\n",
       "  <thead>\n",
       "    <tr style=\"text-align: right;\">\n",
       "      <th></th>\n",
       "      <th>date</th>\n",
       "      <th>group</th>\n",
       "      <th>visitors</th>\n",
       "    </tr>\n",
       "  </thead>\n",
       "  <tbody>\n",
       "    <tr>\n",
       "      <th>0</th>\n",
       "      <td>2019-08-01</td>\n",
       "      <td>A</td>\n",
       "      <td>719</td>\n",
       "    </tr>\n",
       "    <tr>\n",
       "      <th>1</th>\n",
       "      <td>2019-08-02</td>\n",
       "      <td>A</td>\n",
       "      <td>619</td>\n",
       "    </tr>\n",
       "    <tr>\n",
       "      <th>2</th>\n",
       "      <td>2019-08-03</td>\n",
       "      <td>A</td>\n",
       "      <td>507</td>\n",
       "    </tr>\n",
       "    <tr>\n",
       "      <th>3</th>\n",
       "      <td>2019-08-04</td>\n",
       "      <td>A</td>\n",
       "      <td>717</td>\n",
       "    </tr>\n",
       "    <tr>\n",
       "      <th>4</th>\n",
       "      <td>2019-08-05</td>\n",
       "      <td>A</td>\n",
       "      <td>756</td>\n",
       "    </tr>\n",
       "  </tbody>\n",
       "</table>\n",
       "</div>"
      ],
      "text/plain": [
       "         date group  visitors\n",
       "0  2019-08-01     A       719\n",
       "1  2019-08-02     A       619\n",
       "2  2019-08-03     A       507\n",
       "3  2019-08-04     A       717\n",
       "4  2019-08-05     A       756"
      ]
     },
     "metadata": {},
     "output_type": "display_data"
    },
    {
     "name": "stdout",
     "output_type": "stream",
     "text": [
      "---------------------------------------------------------------------------\n",
      "<class 'pandas.core.frame.DataFrame'>\n",
      "RangeIndex: 62 entries, 0 to 61\n",
      "Data columns (total 3 columns):\n",
      " #   Column    Non-Null Count  Dtype \n",
      "---  ------    --------------  ----- \n",
      " 0   date      62 non-null     object\n",
      " 1   group     62 non-null     object\n",
      " 2   visitors  62 non-null     int64 \n",
      "dtypes: int64(1), object(2)\n",
      "memory usage: 1.6+ KB\n",
      "---------------------------------------------------------------------------\n",
      "В датафрейме visitors дубликатов не обнаружено\n"
     ]
    }
   ],
   "source": [
    "for df,name in zip([hypothesis, orders, visitors], \n",
    "                   ['hypothesis', 'orders', 'visitors']):\n",
    "    df.name = name\n",
    "    # Переведем название столбцов в нижний регистр\n",
    "    df.columns = df.columns.str.lower()\n",
    "    print('_' * 35 + f'{df.name}' + '_' * 35)\n",
    "    display(df.head())\n",
    "    print('-' * 75)\n",
    "    df.info()\n",
    "    print('-' * 75)\n",
    "    # Проверка датафрейма на дубликаты\n",
    "    if df.duplicated().sum() == 0:\n",
    "        print(f'В датафрейме {name} дубликатов не обнаружено')\n",
    "    else:\n",
    "        print(f'В датафрейме {name} обнаружено {df.duplicated().sum()} дубликатов')"
   ]
  },
  {
   "cell_type": "code",
   "execution_count": 4,
   "metadata": {},
   "outputs": [],
   "source": [
    "# Поменяем названия столбцов\n",
    "orders = orders.rename(columns={\"transactionid\": \"transaction_id\", \"visitorid\": \"visitor_id\"})"
   ]
  },
  {
   "cell_type": "markdown",
   "metadata": {},
   "source": [
    "### Вывод"
   ]
  },
  {
   "cell_type": "markdown",
   "metadata": {},
   "source": [
    "При первом взгяде на данные критических ошибок не обнаружено. Можно приступать к следующим пунктам"
   ]
  },
  {
   "cell_type": "markdown",
   "metadata": {},
   "source": [
    "## Приоритизация гипотез"
   ]
  },
  {
   "cell_type": "markdown",
   "metadata": {},
   "source": [
    "### Фреймворк ICE для приоритизации гипотез"
   ]
  },
  {
   "cell_type": "code",
   "execution_count": 5,
   "metadata": {},
   "outputs": [
    {
     "data": {
      "text/html": [
       "<div>\n",
       "<style scoped>\n",
       "    .dataframe tbody tr th:only-of-type {\n",
       "        vertical-align: middle;\n",
       "    }\n",
       "\n",
       "    .dataframe tbody tr th {\n",
       "        vertical-align: top;\n",
       "    }\n",
       "\n",
       "    .dataframe thead th {\n",
       "        text-align: right;\n",
       "    }\n",
       "</style>\n",
       "<table border=\"1\" class=\"dataframe\">\n",
       "  <thead>\n",
       "    <tr style=\"text-align: right;\">\n",
       "      <th></th>\n",
       "      <th>hypothesis</th>\n",
       "      <th>ICE</th>\n",
       "    </tr>\n",
       "  </thead>\n",
       "  <tbody>\n",
       "    <tr>\n",
       "      <th>8</th>\n",
       "      <td>Запустить акцию, дающую скидку на товар в день...</td>\n",
       "      <td>16.200000</td>\n",
       "    </tr>\n",
       "    <tr>\n",
       "      <th>0</th>\n",
       "      <td>Добавить два новых канала привлечения трафика,...</td>\n",
       "      <td>13.333333</td>\n",
       "    </tr>\n",
       "    <tr>\n",
       "      <th>7</th>\n",
       "      <td>Добавить форму подписки на все основные страни...</td>\n",
       "      <td>11.200000</td>\n",
       "    </tr>\n",
       "    <tr>\n",
       "      <th>6</th>\n",
       "      <td>Показать на главной странице баннеры с актуаль...</td>\n",
       "      <td>8.000000</td>\n",
       "    </tr>\n",
       "    <tr>\n",
       "      <th>2</th>\n",
       "      <td>Добавить блоки рекомендаций товаров на сайт ин...</td>\n",
       "      <td>7.000000</td>\n",
       "    </tr>\n",
       "    <tr>\n",
       "      <th>1</th>\n",
       "      <td>Запустить собственную службу доставки, что сок...</td>\n",
       "      <td>2.000000</td>\n",
       "    </tr>\n",
       "    <tr>\n",
       "      <th>5</th>\n",
       "      <td>Добавить страницу отзывов клиентов о магазине,...</td>\n",
       "      <td>1.333333</td>\n",
       "    </tr>\n",
       "    <tr>\n",
       "      <th>3</th>\n",
       "      <td>Изменить структура категорий, что увеличит кон...</td>\n",
       "      <td>1.125000</td>\n",
       "    </tr>\n",
       "    <tr>\n",
       "      <th>4</th>\n",
       "      <td>Изменить цвет фона главной страницы, чтобы уве...</td>\n",
       "      <td>1.000000</td>\n",
       "    </tr>\n",
       "  </tbody>\n",
       "</table>\n",
       "</div>"
      ],
      "text/plain": [
       "                                          hypothesis        ICE\n",
       "8  Запустить акцию, дающую скидку на товар в день...  16.200000\n",
       "0  Добавить два новых канала привлечения трафика,...  13.333333\n",
       "7  Добавить форму подписки на все основные страни...  11.200000\n",
       "6  Показать на главной странице баннеры с актуаль...   8.000000\n",
       "2  Добавить блоки рекомендаций товаров на сайт ин...   7.000000\n",
       "1  Запустить собственную службу доставки, что сок...   2.000000\n",
       "5  Добавить страницу отзывов клиентов о магазине,...   1.333333\n",
       "3  Изменить структура категорий, что увеличит кон...   1.125000\n",
       "4  Изменить цвет фона главной страницы, чтобы уве...   1.000000"
      ]
     },
     "metadata": {},
     "output_type": "display_data"
    }
   ],
   "source": [
    "hypothesis['ICE'] = (hypothesis['impact'] * hypothesis['confidence']) / hypothesis['efforts']\n",
    "display(hypothesis[['hypothesis', 'ICE']].sort_values(by='ICE', ascending=False))"
   ]
  },
  {
   "cell_type": "markdown",
   "metadata": {},
   "source": [
    "### Фреймворк RICE для приоритизации гипотез"
   ]
  },
  {
   "cell_type": "code",
   "execution_count": 6,
   "metadata": {},
   "outputs": [
    {
     "data": {
      "text/html": [
       "<div>\n",
       "<style scoped>\n",
       "    .dataframe tbody tr th:only-of-type {\n",
       "        vertical-align: middle;\n",
       "    }\n",
       "\n",
       "    .dataframe tbody tr th {\n",
       "        vertical-align: top;\n",
       "    }\n",
       "\n",
       "    .dataframe thead th {\n",
       "        text-align: right;\n",
       "    }\n",
       "</style>\n",
       "<table border=\"1\" class=\"dataframe\">\n",
       "  <thead>\n",
       "    <tr style=\"text-align: right;\">\n",
       "      <th></th>\n",
       "      <th>hypothesis</th>\n",
       "      <th>RICE</th>\n",
       "    </tr>\n",
       "  </thead>\n",
       "  <tbody>\n",
       "    <tr>\n",
       "      <th>7</th>\n",
       "      <td>Добавить форму подписки на все основные страни...</td>\n",
       "      <td>112.0</td>\n",
       "    </tr>\n",
       "    <tr>\n",
       "      <th>2</th>\n",
       "      <td>Добавить блоки рекомендаций товаров на сайт ин...</td>\n",
       "      <td>56.0</td>\n",
       "    </tr>\n",
       "    <tr>\n",
       "      <th>0</th>\n",
       "      <td>Добавить два новых канала привлечения трафика,...</td>\n",
       "      <td>40.0</td>\n",
       "    </tr>\n",
       "    <tr>\n",
       "      <th>6</th>\n",
       "      <td>Показать на главной странице баннеры с актуаль...</td>\n",
       "      <td>40.0</td>\n",
       "    </tr>\n",
       "    <tr>\n",
       "      <th>8</th>\n",
       "      <td>Запустить акцию, дающую скидку на товар в день...</td>\n",
       "      <td>16.2</td>\n",
       "    </tr>\n",
       "    <tr>\n",
       "      <th>3</th>\n",
       "      <td>Изменить структура категорий, что увеличит кон...</td>\n",
       "      <td>9.0</td>\n",
       "    </tr>\n",
       "    <tr>\n",
       "      <th>1</th>\n",
       "      <td>Запустить собственную службу доставки, что сок...</td>\n",
       "      <td>4.0</td>\n",
       "    </tr>\n",
       "    <tr>\n",
       "      <th>5</th>\n",
       "      <td>Добавить страницу отзывов клиентов о магазине,...</td>\n",
       "      <td>4.0</td>\n",
       "    </tr>\n",
       "    <tr>\n",
       "      <th>4</th>\n",
       "      <td>Изменить цвет фона главной страницы, чтобы уве...</td>\n",
       "      <td>3.0</td>\n",
       "    </tr>\n",
       "  </tbody>\n",
       "</table>\n",
       "</div>"
      ],
      "text/plain": [
       "                                          hypothesis   RICE\n",
       "7  Добавить форму подписки на все основные страни...  112.0\n",
       "2  Добавить блоки рекомендаций товаров на сайт ин...   56.0\n",
       "0  Добавить два новых канала привлечения трафика,...   40.0\n",
       "6  Показать на главной странице баннеры с актуаль...   40.0\n",
       "8  Запустить акцию, дающую скидку на товар в день...   16.2\n",
       "3  Изменить структура категорий, что увеличит кон...    9.0\n",
       "1  Запустить собственную службу доставки, что сок...    4.0\n",
       "5  Добавить страницу отзывов клиентов о магазине,...    4.0\n",
       "4  Изменить цвет фона главной страницы, чтобы уве...    3.0"
      ]
     },
     "metadata": {},
     "output_type": "display_data"
    }
   ],
   "source": [
    "hypothesis['RICE'] = (hypothesis['reach'] * hypothesis['impact'] * hypothesis['confidence']) / hypothesis['efforts']\n",
    "\n",
    "display(hypothesis[['hypothesis', 'RICE']].sort_values(by='RICE', ascending=False))"
   ]
  },
  {
   "cell_type": "markdown",
   "metadata": {},
   "source": [
    "### Вывод"
   ]
  },
  {
   "cell_type": "markdown",
   "metadata": {},
   "source": [
    "Видим, приоритизации гипотез двух разных методов несколько отличаестя, это происходит из за того что в методе RICE появляется параметр Reach(скольких пользователей затронет изменение, которое вы хотите внести)"
   ]
  },
  {
   "cell_type": "markdown",
   "metadata": {},
   "source": [
    "## Анализ A/B-тест"
   ]
  },
  {
   "cell_type": "markdown",
   "metadata": {},
   "source": [
    "Перед началом теста нужно проверить нет ли пользователей которые по какой-то причине попали в обе группы"
   ]
  },
  {
   "cell_type": "code",
   "execution_count": 7,
   "metadata": {},
   "outputs": [
    {
     "data": {
      "text/html": [
       "<div>\n",
       "<style scoped>\n",
       "    .dataframe tbody tr th:only-of-type {\n",
       "        vertical-align: middle;\n",
       "    }\n",
       "\n",
       "    .dataframe tbody tr th {\n",
       "        vertical-align: top;\n",
       "    }\n",
       "\n",
       "    .dataframe thead th {\n",
       "        text-align: right;\n",
       "    }\n",
       "</style>\n",
       "<table border=\"1\" class=\"dataframe\">\n",
       "  <thead>\n",
       "    <tr style=\"text-align: right;\">\n",
       "      <th></th>\n",
       "      <th>groups</th>\n",
       "      <th>groups_name</th>\n",
       "    </tr>\n",
       "    <tr>\n",
       "      <th>visitor_id</th>\n",
       "      <th></th>\n",
       "      <th></th>\n",
       "    </tr>\n",
       "  </thead>\n",
       "  <tbody>\n",
       "    <tr>\n",
       "      <th>8300375</th>\n",
       "      <td>2</td>\n",
       "      <td>[B, A]</td>\n",
       "    </tr>\n",
       "    <tr>\n",
       "      <th>199603092</th>\n",
       "      <td>2</td>\n",
       "      <td>[A, B]</td>\n",
       "    </tr>\n",
       "    <tr>\n",
       "      <th>232979603</th>\n",
       "      <td>2</td>\n",
       "      <td>[B, A]</td>\n",
       "    </tr>\n",
       "    <tr>\n",
       "      <th>237748145</th>\n",
       "      <td>2</td>\n",
       "      <td>[B, A]</td>\n",
       "    </tr>\n",
       "    <tr>\n",
       "      <th>276558944</th>\n",
       "      <td>2</td>\n",
       "      <td>[B, A]</td>\n",
       "    </tr>\n",
       "  </tbody>\n",
       "</table>\n",
       "</div>"
      ],
      "text/plain": [
       "            groups groups_name\n",
       "visitor_id                    \n",
       "8300375          2      [B, A]\n",
       "199603092        2      [A, B]\n",
       "232979603        2      [B, A]\n",
       "237748145        2      [B, A]\n",
       "276558944        2      [B, A]"
      ]
     },
     "metadata": {},
     "output_type": "display_data"
    },
    {
     "name": "stdout",
     "output_type": "stream",
     "text": [
      "58\n"
     ]
    }
   ],
   "source": [
    "duplicated_users = orders.groupby('visitor_id').agg({'group':['nunique','unique']})\n",
    "duplicated_users.columns = ['groups', 'groups_name']\n",
    "duplicated_users = duplicated_users.query('groups > 1')\n",
    "\n",
    "display(duplicated_users.head())\n",
    "# Посчитаем сколько таких пользователей\n",
    "print(duplicated_users['groups'].count())"
   ]
  },
  {
   "cell_type": "markdown",
   "metadata": {},
   "source": [
    "Получилось 58 пользователей что больше 5% от всей выборки. Про посетителей у нас вообще нет никакой информации кроме их визитов. Поэтому и смысла удалять их нет"
   ]
  },
  {
   "cell_type": "markdown",
   "metadata": {},
   "source": [
    "### График кумулятивной выручки по группам"
   ]
  },
  {
   "cell_type": "code",
   "execution_count": 8,
   "metadata": {},
   "outputs": [],
   "source": [
    "# создаем массив уникальных пар значений дат и групп теста\n",
    "datesGroups = orders[['date','group']].drop_duplicates()"
   ]
  },
  {
   "cell_type": "code",
   "execution_count": 9,
   "metadata": {},
   "outputs": [],
   "source": [
    "# Агрегируем значения в датафрейме orders\n",
    "ordersAggregated = (\n",
    "    datesGroups.apply(lambda x: orders[np.logical_and(orders['date'] <= x['date'], orders['group'] == x['group'])]\\\n",
    "               .agg({'date' : 'max', 'group' : 'max', 'transaction_id' : 'nunique', 'visitor_id' : 'nunique', 'revenue' : 'sum'}), axis=1)\n",
    "               .sort_values(by=['date','group'])\n",
    ") "
   ]
  },
  {
   "cell_type": "code",
   "execution_count": 10,
   "metadata": {},
   "outputs": [],
   "source": [
    "# Агрегируем значения в датафрейме visitors\n",
    "visitorsAggregated = (\n",
    "    datesGroups.apply(lambda x: visitors[np.logical_and(visitors['date'] <= x['date'], visitors['group'] == x['group'])]\n",
    "                      .agg({'date' : 'max', 'group' : 'max', 'visitors' : 'sum'}), axis=1)\n",
    "                      .sort_values(by=['date','group'])\n",
    ")"
   ]
  },
  {
   "cell_type": "code",
   "execution_count": 11,
   "metadata": {},
   "outputs": [
    {
     "name": "stdout",
     "output_type": "stream",
     "text": [
      "         date group  orders  buyers  revenue  visitors\n",
      "0  2019-08-01     A      24      20   148579       719\n",
      "1  2019-08-01     B      21      20   101217       713\n",
      "2  2019-08-02     A      44      38   242401      1338\n",
      "3  2019-08-02     B      45      43   266748      1294\n",
      "4  2019-08-03     A      68      62   354874      1845\n"
     ]
    }
   ],
   "source": [
    "# объединяем кумулятивные данные в одной таблице и присваиваем ее столбцам понятные названия\n",
    "cumulativeData = ordersAggregated.merge(visitorsAggregated, left_on=['date', 'group'], right_on=['date', 'group'])\n",
    "cumulativeData.columns = ['date', 'group', 'orders', 'buyers', 'revenue', 'visitors']\n",
    "\n",
    "print(cumulativeData.head(5))"
   ]
  },
  {
   "cell_type": "code",
   "execution_count": 12,
   "metadata": {},
   "outputs": [
    {
     "data": {
      "image/png": "[encoded data removed]",
      "text/plain": [
       "<Figure size 1080x360 with 1 Axes>"
      ]
     },
     "metadata": {
      "needs_background": "light"
     },
     "output_type": "display_data"
    }
   ],
   "source": [
    "# датафрейм с кумулятивным количеством заказов и кумулятивной выручкой по дням в группе А\n",
    "cumulativeRevenueA = cumulativeData[cumulativeData['group']=='A'][['date','revenue', 'orders']]\n",
    "\n",
    "# датафрейм с кумулятивным количеством заказов и кумулятивной выручкой по дням в группе B\n",
    "cumulativeRevenueB = cumulativeData[cumulativeData['group']=='B'][['date','revenue', 'orders']]\n",
    "\n",
    "plt.figure(figsize=(15,5))\n",
    "plt.grid()\n",
    "plt.title('График кумулятивной выручки по группам')\n",
    "plt.tick_params(axis = 'x', labelrotation = 45)\n",
    "# Строим график выручки группы А\n",
    "plt.plot(cumulativeRevenueA['date'], cumulativeRevenueA['revenue'], label='A')\n",
    "\n",
    "# Строим график выручки группы B\n",
    "plt.plot(cumulativeRevenueB['date'], cumulativeRevenueB['revenue'], label='B')\n",
    "plt.legend()\n",
    "plt.show()"
   ]
  },
  {
   "cell_type": "markdown",
   "metadata": {},
   "source": [
    "Выручка в двух группах росла на протяжении всего теста. Однако видим резкое увелечение выручки в групе В, что может говорить о увеличении числа заказов или заказах на большие суммы. Расмотрим график средних чеков"
   ]
  },
  {
   "cell_type": "markdown",
   "metadata": {},
   "source": [
    "### График кумулятивного среднего чека по группам"
   ]
  },
  {
   "cell_type": "code",
   "execution_count": 13,
   "metadata": {},
   "outputs": [
    {
     "data": {
      "image/png": "[encoded data removed]",
      "text/plain": [
       "<Figure size 1080x360 with 1 Axes>"
      ]
     },
     "metadata": {
      "needs_background": "light"
     },
     "output_type": "display_data"
    }
   ],
   "source": [
    "plt.figure(figsize=(15,5))\n",
    "plt.grid()\n",
    "plt.title('График кумулятивного среднего чека по группам')\n",
    "plt.tick_params(axis = 'x', labelrotation = 45)\n",
    "plt.plot(cumulativeRevenueA['date'], cumulativeRevenueA['revenue']/cumulativeRevenueA['orders'], label='A')\n",
    "plt.plot(cumulativeRevenueB['date'], cumulativeRevenueB['revenue']/cumulativeRevenueB['orders'], label='B')\n",
    "plt.legend() \n",
    "plt.show()"
   ]
  },
  {
   "cell_type": "markdown",
   "metadata": {},
   "source": [
    "В группе А видим что сперва средний чек уменьшился, а далее увеличился и держался стабильно до конца теста. В группе В видим резкий рост как и на графике с выручкой. Скорей всего в этот период в группе В были заказы на большую сумму. Далее мы построим график относительного различия для среднего чека"
   ]
  },
  {
   "cell_type": "markdown",
   "metadata": {},
   "source": [
    "###  График относительного изменения кумулятивного среднего чека"
   ]
  },
  {
   "cell_type": "code",
   "execution_count": 14,
   "metadata": {},
   "outputs": [
    {
     "data": {
      "image/png": "[encoded data removed]",
      "text/plain": [
       "<Figure size 1080x360 with 1 Axes>"
      ]
     },
     "metadata": {
      "needs_background": "light"
     },
     "output_type": "display_data"
    }
   ],
   "source": [
    "# собираем данные в одном датафрейме\n",
    "mergedCumulativeRevenue = cumulativeRevenueA.merge(cumulativeRevenueB, left_on='date', right_on='date', how='left', suffixes=['A', 'B'])\n",
    "\n",
    "plt.figure(figsize=(15,5))\n",
    "plt.grid()\n",
    "plt.title('График относительного различия для среднего чека')\n",
    "plt.tick_params(axis = 'x', labelrotation = 45)\n",
    "\n",
    "# cтроим отношение средних чеков\n",
    "plt.plot(mergedCumulativeRevenue['date'], (mergedCumulativeRevenue['revenueB']/mergedCumulativeRevenue['ordersB'])/\n",
    "                                          (mergedCumulativeRevenue['revenueA']/mergedCumulativeRevenue['ordersA'])-1)\n",
    "\n",
    "# добавляем ось X\n",
    "plt.axhline(y=0, color='black', linestyle='--') \n",
    "plt.show()"
   ]
  },
  {
   "cell_type": "markdown",
   "metadata": {},
   "source": [
    "В нескольких точках график различия между сегментами резко «скачет». Где-то уж точно спрятались крупные заказы и выбросы.Аналогично проанализируем график кумулятивной конверсии"
   ]
  },
  {
   "cell_type": "markdown",
   "metadata": {},
   "source": [
    "### График кумулятивной конверсии по группам"
   ]
  },
  {
   "cell_type": "code",
   "execution_count": 15,
   "metadata": {
    "scrolled": false
   },
   "outputs": [
    {
     "data": {
      "image/png": "[encoded data removed]",
      "text/plain": [
       "<Figure size 1080x360 with 1 Axes>"
      ]
     },
     "metadata": {
      "needs_background": "light"
     },
     "output_type": "display_data"
    }
   ],
   "source": [
    "# считаем кумулятивную конверсию\n",
    "cumulativeData['conversion'] = cumulativeData['orders']/cumulativeData['visitors']\n",
    "\n",
    "# отделяем данные по группе A\n",
    "cumulativeDataA = cumulativeData[cumulativeData['group']=='A']\n",
    "\n",
    "# отделяем данные по группе B\n",
    "cumulativeDataB = cumulativeData[cumulativeData['group']=='B']\n",
    "\n",
    "# строим графики\n",
    "plt.figure(figsize=(15,5))\n",
    "plt.grid()\n",
    "plt.title('График кумулятивной конверсии по группам')\n",
    "plt.tick_params(axis = 'x', labelrotation = 45)\n",
    "plt.plot(cumulativeDataA['date'], cumulativeDataA['conversion'], label='A')\n",
    "plt.plot(cumulativeDataB['date'], cumulativeDataB['conversion'], label='B')\n",
    "plt.legend()\n",
    "\n",
    "# задаем масштаб осей\n",
    "#plt.axis([\"2019-08-01\", '2019-08-31', 0, 0.015]) \n",
    "plt.show()"
   ]
  },
  {
   "cell_type": "markdown",
   "metadata": {},
   "source": [
    "Конверсия группы В резко снизилась, далее колебалась, но зафиксировалась. В группе А был резкий подъем, за тем резкий спад потом опять подъем и подконец конверсия снизилась. Далее расмотрим график относительного различия кумулятивных конверсий"
   ]
  },
  {
   "cell_type": "markdown",
   "metadata": {},
   "source": [
    "### График относительного изменения кумулятивной конверсии"
   ]
  },
  {
   "cell_type": "code",
   "execution_count": 16,
   "metadata": {},
   "outputs": [
    {
     "data": {
      "image/png": "[encoded data removed]",
      "text/plain": [
       "<Figure size 1080x360 with 1 Axes>"
      ]
     },
     "metadata": {
      "needs_background": "light"
     },
     "output_type": "display_data"
    }
   ],
   "source": [
    "mergedCumulativeConversions = cumulativeDataA[['date','conversion']].merge(cumulativeDataB[['date','conversion']], left_on='date', right_on='date', how='left', suffixes=['A', 'B'])\n",
    "\n",
    "plt.figure(figsize=(15,5))\n",
    "plt.grid()\n",
    "plt.title('График относительного изменения кумулятивной конверсии')\n",
    "plt.tick_params(axis = 'x', labelrotation = 45)\n",
    "plt.plot(mergedCumulativeConversions['date'], mergedCumulativeConversions['conversionB']/\n",
    "         mergedCumulativeConversions['conversionA']-1, label=\"Относительный прирост конверсии группы B относительно группы A\")\n",
    "plt.legend()\n",
    "\n",
    "plt.axhline(y=0, color='black', linestyle='--')\n",
    "plt.axhline(y=-0.1, color='grey', linestyle='--')\n",
    "#plt.axis([\"2019-04-01\", '2019-04-23', -0.6, 0.6])\n",
    "plt.show()"
   ]
  },
  {
   "cell_type": "markdown",
   "metadata": {},
   "source": [
    "Конверсия группы В практически на протяжении всего теста была намного выше группы А"
   ]
  },
  {
   "cell_type": "markdown",
   "metadata": {},
   "source": [
    "### Точечный график количества заказов по пользователям"
   ]
  },
  {
   "cell_type": "markdown",
   "metadata": {},
   "source": [
    "Выявим анамальные количества заказов на пользователя"
   ]
  },
  {
   "cell_type": "code",
   "execution_count": 17,
   "metadata": {},
   "outputs": [
    {
     "name": "stdout",
     "output_type": "stream",
     "text": [
      "         user_id  orders\n",
      "1023  4256040402      11\n",
      "591   2458001652      11\n",
      "569   2378935119       9\n",
      "487   2038680547       8\n",
      "44     199603092       5\n",
      "744   3062433592       5\n",
      "55     237748145       5\n",
      "917   3803269165       5\n",
      "299   1230306981       5\n",
      "897   3717692402       5\n"
     ]
    }
   ],
   "source": [
    "ordersByUsers = (\n",
    "    orders.groupby('visitor_id', as_index=False)\n",
    "    .agg({'transaction_id': 'nunique'})\n",
    ")\n",
    "\n",
    "ordersByUsers.columns = ['user_id', 'orders']\n",
    "\n",
    "print(ordersByUsers.sort_values(by='orders', ascending=False).head(10)) "
   ]
  },
  {
   "cell_type": "code",
   "execution_count": 18,
   "metadata": {},
   "outputs": [
    {
     "data": {
      "image/png": "[encoded data removed]",
      "text/plain": [
       "<Figure size 1080x360 with 1 Axes>"
      ]
     },
     "metadata": {
      "needs_background": "light"
     },
     "output_type": "display_data"
    }
   ],
   "source": [
    "# Построим гистограмму\n",
    "plt.figure(figsize=(15,5))\n",
    "plt.hist(ordersByUsers['orders'])\n",
    "plt.show()"
   ]
  },
  {
   "cell_type": "code",
   "execution_count": 19,
   "metadata": {},
   "outputs": [
    {
     "data": {
      "image/png": "[encoded data removed]",
      "text/plain": [
       "<Figure size 1080x360 with 1 Axes>"
      ]
     },
     "metadata": {
      "needs_background": "light"
     },
     "output_type": "display_data"
    }
   ],
   "source": [
    "# Построим точечный график\n",
    "x_values = pd.Series(range(0,len(ordersByUsers)))\n",
    "plt.figure(figsize=(15,5))\n",
    "plt.scatter(x_values, ordersByUsers['orders']) \n",
    "plt.show()"
   ]
  },
  {
   "cell_type": "markdown",
   "metadata": {},
   "source": [
    "Видим что чаще всего пользователи совершают 1 заказ, но доля 2-3 заказов велика "
   ]
  },
  {
   "cell_type": "markdown",
   "metadata": {},
   "source": [
    "Посчитаем 95-й и 99-й перцентили количества заказов на пользователя. Выберим границу для определения аномальных пользователей"
   ]
  },
  {
   "cell_type": "code",
   "execution_count": 20,
   "metadata": {},
   "outputs": [
    {
     "name": "stdout",
     "output_type": "stream",
     "text": [
      "[2. 4.]\n"
     ]
    }
   ],
   "source": [
    "print(np.percentile(ordersByUsers['orders'], [95, 99])) "
   ]
  },
  {
   "cell_type": "markdown",
   "metadata": {},
   "source": [
    "Видим что не более 5% пользователей делали больше 2 заказов не более 1% делали 4 и более заказа. Примем нижнюю границу числа заказов в 2 заказа."
   ]
  },
  {
   "cell_type": "markdown",
   "metadata": {},
   "source": [
    "### Точечный график стоимостей заказов"
   ]
  },
  {
   "cell_type": "code",
   "execution_count": 21,
   "metadata": {},
   "outputs": [
    {
     "data": {
      "text/html": [
       "<div>\n",
       "<style scoped>\n",
       "    .dataframe tbody tr th:only-of-type {\n",
       "        vertical-align: middle;\n",
       "    }\n",
       "\n",
       "    .dataframe tbody tr th {\n",
       "        vertical-align: top;\n",
       "    }\n",
       "\n",
       "    .dataframe thead th {\n",
       "        text-align: right;\n",
       "    }\n",
       "</style>\n",
       "<table border=\"1\" class=\"dataframe\">\n",
       "  <thead>\n",
       "    <tr style=\"text-align: right;\">\n",
       "      <th></th>\n",
       "      <th>transaction_id</th>\n",
       "      <th>visitor_id</th>\n",
       "      <th>date</th>\n",
       "      <th>revenue</th>\n",
       "      <th>group</th>\n",
       "    </tr>\n",
       "  </thead>\n",
       "  <tbody>\n",
       "    <tr>\n",
       "      <th>425</th>\n",
       "      <td>590470918</td>\n",
       "      <td>1920142716</td>\n",
       "      <td>2019-08-19</td>\n",
       "      <td>1294500</td>\n",
       "      <td>B</td>\n",
       "    </tr>\n",
       "    <tr>\n",
       "      <th>1196</th>\n",
       "      <td>3936777065</td>\n",
       "      <td>2108080724</td>\n",
       "      <td>2019-08-15</td>\n",
       "      <td>202740</td>\n",
       "      <td>B</td>\n",
       "    </tr>\n",
       "    <tr>\n",
       "      <th>858</th>\n",
       "      <td>192721366</td>\n",
       "      <td>1316129916</td>\n",
       "      <td>2019-08-27</td>\n",
       "      <td>93940</td>\n",
       "      <td>A</td>\n",
       "    </tr>\n",
       "    <tr>\n",
       "      <th>1136</th>\n",
       "      <td>666610489</td>\n",
       "      <td>1307669133</td>\n",
       "      <td>2019-08-13</td>\n",
       "      <td>92550</td>\n",
       "      <td>A</td>\n",
       "    </tr>\n",
       "    <tr>\n",
       "      <th>744</th>\n",
       "      <td>3668308183</td>\n",
       "      <td>888512513</td>\n",
       "      <td>2019-08-27</td>\n",
       "      <td>86620</td>\n",
       "      <td>B</td>\n",
       "    </tr>\n",
       "    <tr>\n",
       "      <th>682</th>\n",
       "      <td>1216533772</td>\n",
       "      <td>4266935830</td>\n",
       "      <td>2019-08-29</td>\n",
       "      <td>78990</td>\n",
       "      <td>B</td>\n",
       "    </tr>\n",
       "    <tr>\n",
       "      <th>662</th>\n",
       "      <td>1811671147</td>\n",
       "      <td>4266935830</td>\n",
       "      <td>2019-08-29</td>\n",
       "      <td>78990</td>\n",
       "      <td>A</td>\n",
       "    </tr>\n",
       "    <tr>\n",
       "      <th>743</th>\n",
       "      <td>3603576309</td>\n",
       "      <td>4133034833</td>\n",
       "      <td>2019-08-09</td>\n",
       "      <td>67990</td>\n",
       "      <td>A</td>\n",
       "    </tr>\n",
       "    <tr>\n",
       "      <th>1103</th>\n",
       "      <td>1348774318</td>\n",
       "      <td>1164614297</td>\n",
       "      <td>2019-08-12</td>\n",
       "      <td>66350</td>\n",
       "      <td>A</td>\n",
       "    </tr>\n",
       "    <tr>\n",
       "      <th>1099</th>\n",
       "      <td>316924019</td>\n",
       "      <td>148427295</td>\n",
       "      <td>2019-08-12</td>\n",
       "      <td>65710</td>\n",
       "      <td>A</td>\n",
       "    </tr>\n",
       "  </tbody>\n",
       "</table>\n",
       "</div>"
      ],
      "text/plain": [
       "      transaction_id  visitor_id        date  revenue group\n",
       "425        590470918  1920142716  2019-08-19  1294500     B\n",
       "1196      3936777065  2108080724  2019-08-15   202740     B\n",
       "858        192721366  1316129916  2019-08-27    93940     A\n",
       "1136       666610489  1307669133  2019-08-13    92550     A\n",
       "744       3668308183   888512513  2019-08-27    86620     B\n",
       "682       1216533772  4266935830  2019-08-29    78990     B\n",
       "662       1811671147  4266935830  2019-08-29    78990     A\n",
       "743       3603576309  4133034833  2019-08-09    67990     A\n",
       "1103      1348774318  1164614297  2019-08-12    66350     A\n",
       "1099       316924019   148427295  2019-08-12    65710     A"
      ]
     },
     "metadata": {},
     "output_type": "display_data"
    }
   ],
   "source": [
    "# Посмотрим на самые большие заказы \n",
    "display(orders.sort_values(by='revenue', ascending=False).head(10))"
   ]
  },
  {
   "cell_type": "markdown",
   "metadata": {},
   "source": [
    "Один заказ на 1.294.500. Если такой дорогой заказ попадёт в одну из групп теста, он сразу же исказит результаты и сделает победителем ту группу, где оказался. При этом такие покупки — редкость, исключение, которое проявилось не из-за тестирования гипотезы, а случайно"
   ]
  },
  {
   "cell_type": "code",
   "execution_count": 22,
   "metadata": {},
   "outputs": [
    {
     "data": {
      "image/png": "[encoded data removed]",
      "text/plain": [
       "<Figure size 1080x360 with 1 Axes>"
      ]
     },
     "metadata": {
      "needs_background": "light"
     },
     "output_type": "display_data"
    }
   ],
   "source": [
    "plt.figure(figsize=(15,5))\n",
    "plt.hist(orders['revenue'], bins=500)\n",
    "plt.xlim(0, 202740)\n",
    "plt.show()"
   ]
  },
  {
   "cell_type": "code",
   "execution_count": 23,
   "metadata": {},
   "outputs": [
    {
     "data": {
      "image/png": "[encoded data removed]",
      "text/plain": [
       "<Figure size 1080x360 with 1 Axes>"
      ]
     },
     "metadata": {
      "needs_background": "light"
     },
     "output_type": "display_data"
    }
   ],
   "source": [
    "x_values = pd.Series(range(0,len(orders['revenue'])))\n",
    "plt.figure(figsize=(15,5))\n",
    "plt.scatter(x_values, orders['revenue']) \n",
    "# Чтобы график был информативней уберем самый крупный заказ\n",
    "plt.ylim(0, 202740)\n",
    "plt.show()"
   ]
  },
  {
   "cell_type": "markdown",
   "metadata": {},
   "source": [
    "По графику можно выбрать границу аномальных заказов между 25 000 и 50 000 рублей. Однако принято отсеивать от 1% до 5% наблюдений с крайними значениями"
   ]
  },
  {
   "cell_type": "markdown",
   "metadata": {},
   "source": [
    "Посчитайем 95-й и 99-й перцентили стоимости заказов. Выберем границу для определения аномальных заказов"
   ]
  },
  {
   "cell_type": "code",
   "execution_count": 24,
   "metadata": {},
   "outputs": [
    {
     "name": "stdout",
     "output_type": "stream",
     "text": [
      "[28000.  58233.2]\n"
     ]
    }
   ],
   "source": [
    "print(np.percentile(orders['revenue'], [95, 99]))"
   ]
  },
  {
   "cell_type": "markdown",
   "metadata": {},
   "source": [
    "Видим что не более 5% пользователей делали на сумму 28000 и более, не более 1% делали заказа на сумму 58233 и более. Примем нижнюю границу для определения аномальных заказов в 28000."
   ]
  },
  {
   "cell_type": "markdown",
   "metadata": {},
   "source": [
    "### Cтатистическая значимость различий в конверсии по «сырым» данным "
   ]
  },
  {
   "cell_type": "markdown",
   "metadata": {},
   "source": [
    "Посчитаем статистическую значимость различий в конверсии и среднем чеке между группами по «сырым» данным — без удаления аномальных пользователей.\n",
    "Сформулируем гипотезы.\n",
    "- Нулевая: различий в конверсии между группами нет. \n",
    "- Альтернативная: различия в конверсии между группами есть"
   ]
  },
  {
   "cell_type": "code",
   "execution_count": 25,
   "metadata": {},
   "outputs": [
    {
     "name": "stdout",
     "output_type": "stream",
     "text": [
      "         date  ordersPerDateA  revenuePerDateA  ordersPerDateB  \\\n",
      "0  2019-08-01              24           148579              21   \n",
      "1  2019-08-02              20            93822              24   \n",
      "2  2019-08-03              24           112473              16   \n",
      "3  2019-08-04              16            70825              17   \n",
      "4  2019-08-05              25           124218              23   \n",
      "\n",
      "   revenuePerDateB  ordersCummulativeA  revenueCummulativeA  \\\n",
      "0           101217                  24               148579   \n",
      "1           165531                  44               242401   \n",
      "2           114248                  68               354874   \n",
      "3           108571                  84               425699   \n",
      "4            92428                 109               549917   \n",
      "\n",
      "   ordersCummulativeB  revenueCummulativeB  visitorsPerDateA  \\\n",
      "0                  21               101217               719   \n",
      "1                  45               266748               619   \n",
      "2                  61               380996               507   \n",
      "3                  78               489567               717   \n",
      "4                 101               581995               756   \n",
      "\n",
      "   visitorsPerDateB  visitorsCummulativeA  visitorsCummulativeB  \n",
      "0               713                   719                   713  \n",
      "1               581                  1338                  1294  \n",
      "2               509                  1845                  1803  \n",
      "3               770                  2562                  2573  \n",
      "4               707                  3318                  3280  \n"
     ]
    }
   ],
   "source": [
    "#Начнём с подготовки данных\n",
    "#Посчитаем количесвто визитов в день в группе А\n",
    "visitorsADaily = visitors[visitors['group'] == 'A'][['date', 'visitors']]\n",
    "visitorsADaily.columns = ['date', 'visitorsPerDateA']\n",
    "\n",
    "#Посчитаем количесвто комулятивных визитов в день в группе А\n",
    "visitorsACummulative = visitorsADaily.apply(\n",
    "    lambda x: visitorsADaily[visitorsADaily['date'] <= x['date']].agg(\n",
    "        {'date': 'max', 'visitorsPerDateA': 'sum'}\n",
    "    ),\n",
    "    axis=1,\n",
    ")\n",
    "visitorsACummulative.columns = ['date', 'visitorsCummulativeA']\n",
    "\n",
    "#Посчитаем количесвто визитов в день в группе В\n",
    "visitorsBDaily = visitors[visitors['group'] == 'B'][['date', 'visitors']]\n",
    "visitorsBDaily.columns = ['date', 'visitorsPerDateB']\n",
    "\n",
    "#Посчитаем количесвто комулятивных визитов в день в группе А\n",
    "visitorsBCummulative = visitorsBDaily.apply(\n",
    "    lambda x: visitorsBDaily[visitorsBDaily['date'] <= x['date']].agg(\n",
    "        {'date': 'max', 'visitorsPerDateB': 'sum'}\n",
    "    ),\n",
    "    axis=1,\n",
    ")\n",
    "visitorsBCummulative.columns = ['date', 'visitorsCummulativeB']\n",
    "\n",
    "#Посчитаем количесвто заказов и суммы в день в группе А\n",
    "ordersADaily = (\n",
    "    orders[orders['group'] == 'A'][['date', 'transaction_id', 'visitor_id', 'revenue']]\n",
    "    .groupby('date', as_index=False)\n",
    "    .agg({'transaction_id': pd.Series.nunique, 'revenue': 'sum'})\n",
    ")\n",
    "ordersADaily.columns = ['date', 'ordersPerDateA', 'revenuePerDateA']\n",
    "\n",
    "#Посчитаем количесвто комулятивных заказов и комулятивной суммы в день в группе А\n",
    "ordersACummulative = ordersADaily.apply(\n",
    "    lambda x: ordersADaily[ordersADaily['date'] <= x['date']].agg(\n",
    "        {'date': 'max', 'ordersPerDateA': 'sum', 'revenuePerDateA': 'sum'}\n",
    "    ),\n",
    "    axis=1,\n",
    ").sort_values(by=['date'])\n",
    "ordersACummulative.columns = [\n",
    "    'date',\n",
    "    'ordersCummulativeA',\n",
    "    'revenueCummulativeA',\n",
    "]\n",
    "\n",
    "#Посчитаем количесвто заказов и суммы в день в группе А\n",
    "ordersBDaily = (\n",
    "    orders[orders['group'] == 'B'][['date', 'transaction_id', 'visitor_id', 'revenue']]\n",
    "    .groupby('date', as_index=False)\n",
    "    .agg({'transaction_id': pd.Series.nunique, 'revenue': 'sum'})\n",
    ")\n",
    "ordersBDaily.columns = ['date', 'ordersPerDateB', 'revenuePerDateB']\n",
    "\n",
    "#Посчитаем количесвто комулятивных заказов и комулятивной суммы в день в группе А\n",
    "ordersBCummulative = ordersBDaily.apply(\n",
    "    lambda x: ordersBDaily[ordersBDaily['date'] <= x['date']].agg(\n",
    "        {'date': 'max', 'ordersPerDateB': 'sum', 'revenuePerDateB': 'sum'}\n",
    "    ),\n",
    "    axis=1,\n",
    ").sort_values(by=['date'])\n",
    "ordersBCummulative.columns = [\n",
    "    'date',\n",
    "    'ordersCummulativeB',\n",
    "    'revenueCummulativeB',\n",
    "]\n",
    "\n",
    "#Объединим все в одну таблицу\n",
    "data = (\n",
    "    ordersADaily.merge(\n",
    "        ordersBDaily, left_on='date', right_on='date', how='left'\n",
    "    )\n",
    "    .merge(ordersACummulative, left_on='date', right_on='date', how='left')\n",
    "    .merge(ordersBCummulative, left_on='date', right_on='date', how='left')\n",
    "    .merge(visitorsADaily, left_on='date', right_on='date', how='left')\n",
    "    .merge(visitorsBDaily, left_on='date', right_on='date', how='left')\n",
    "    .merge(visitorsACummulative, left_on='date', right_on='date', how='left')\n",
    "    .merge(visitorsBCummulative, left_on='date', right_on='date', how='left')\n",
    ")\n",
    "\n",
    "print(data.head(5)) "
   ]
  },
  {
   "cell_type": "code",
   "execution_count": 26,
   "metadata": {},
   "outputs": [],
   "source": [
    "#Создадим переменные в которых для пользователей, которые заказывали хотя бы 1 раз, укажем число совершённых заказов.\n",
    "\n",
    "ordersByUsersA = (\n",
    "    orders[orders['group'] == 'A']\n",
    "    .groupby('visitor_id', as_index=False)\n",
    "    .agg({'transaction_id': pd.Series.nunique})\n",
    ")\n",
    "ordersByUsersA.columns = ['user_id', 'orders']\n",
    "\n",
    "ordersByUsersB = (\n",
    "    orders[orders['group'] == 'B']\n",
    "    .groupby('visitor_id', as_index=False)\n",
    "    .agg({'transaction_id': pd.Series.nunique})\n",
    ")\n",
    "ordersByUsersB.columns = ['user_id', 'orders']"
   ]
  },
  {
   "cell_type": "markdown",
   "metadata": {},
   "source": [
    "Объявим переменные `sampleA` и `sampleB`, в которых пользователям из разных групп будет соответствовать количество заказов. Тем, кто ничего не заказал, будут соответствовать нули. Это нужно, чтобы подготовить выборки к проверке критерием Манна-Уитни."
   ]
  },
  {
   "cell_type": "code",
   "execution_count": 27,
   "metadata": {},
   "outputs": [],
   "source": [
    "sampleA = pd.concat([ordersByUsersA['orders'], \n",
    "                     pd.Series(0, index=np.arange(data['visitorsPerDateA'].sum() - len(ordersByUsersA['orders'])), \n",
    "                               name='orders')],axis=0)"
   ]
  },
  {
   "cell_type": "code",
   "execution_count": 28,
   "metadata": {},
   "outputs": [],
   "source": [
    "sampleB = pd.concat([ordersByUsersB['orders'],\n",
    "                     pd.Series(0, index=np.arange(data['visitorsPerDateB'].sum() - len(ordersByUsersB['orders'])), \n",
    "                               name='orders')],axis=0) "
   ]
  },
  {
   "cell_type": "code",
   "execution_count": 29,
   "metadata": {},
   "outputs": [
    {
     "name": "stdout",
     "output_type": "stream",
     "text": [
      "0.017\n",
      "0.138\n"
     ]
    }
   ],
   "source": [
    "ordersByUsersA = (\n",
    "    orders[orders['group'] == 'A']\n",
    "    .groupby('visitor_id', as_index=False)\n",
    "    .agg({'transaction_id': pd.Series.nunique})\n",
    ")\n",
    "ordersByUsersA.columns = ['user_id', 'orders']\n",
    "\n",
    "ordersByUsersB = (\n",
    "    orders[orders['group'] == 'B']\n",
    "    .groupby('visitor_id', as_index=False)\n",
    "    .agg({'transaction_id': pd.Series.nunique})\n",
    ")\n",
    "ordersByUsersB.columns = ['user_id', 'orders']\n",
    "\n",
    "sampleA = pd.concat(\n",
    "    [\n",
    "        ordersByUsersA['orders'],\n",
    "        pd.Series(\n",
    "            0,\n",
    "            index=np.arange(\n",
    "                data['visitorsPerDateA'].sum() - len(ordersByUsersA['orders'])\n",
    "            ),\n",
    "            name='orders',\n",
    "        ),\n",
    "    ],\n",
    "    axis=0,\n",
    ")\n",
    "\n",
    "sampleB = pd.concat(\n",
    "    [\n",
    "        ordersByUsersB['orders'],\n",
    "        pd.Series(\n",
    "            0,\n",
    "            index=np.arange(\n",
    "                data['visitorsPerDateB'].sum() - len(ordersByUsersB['orders'])\n",
    "            ),\n",
    "            name='orders',\n",
    "        ),\n",
    "    ],\n",
    "    axis=0,\n",
    ")\n",
    "\n",
    "print(\"{0:.3f}\".format(stats.mannwhitneyu(sampleA, sampleB)[1]))\n",
    "\n",
    "print(\"{0:.3f}\".format(sampleB.mean() / sampleA.mean() - 1))"
   ]
  },
  {
   "cell_type": "markdown",
   "metadata": {},
   "source": [
    "Первое число — p-value = 0.017 больше 0.05. Значит, нулевую гипотезу о том, что статистически значимых различий в конверсии между группами нет, не отвергаем. Однако относительный проигрыш группы B равен 13.8% — второе число в выводе."
   ]
  },
  {
   "cell_type": "markdown",
   "metadata": {},
   "source": [
    "### Cтатистическая значимость различий в среднем чеке заказа по «сырым» данным "
   ]
  },
  {
   "cell_type": "markdown",
   "metadata": {},
   "source": [
    "Теперь проверим статистическую значимость различий в среднем чеке между сегментами.\n",
    "- Нулевая гипотеза: различий в среднем чеке между группами нет. \n",
    "- Альтернативная гипотеза: различия в среднем чеке между группами есть."
   ]
  },
  {
   "cell_type": "code",
   "execution_count": 30,
   "metadata": {
    "scrolled": true
   },
   "outputs": [
    {
     "name": "stdout",
     "output_type": "stream",
     "text": [
      "0.729\n",
      "0.259\n"
     ]
    }
   ],
   "source": [
    "print('{0:.3f}'.format(stats.mannwhitneyu(orders[orders['group']=='A']['revenue'],\n",
    "                                          orders[orders['group']=='B']['revenue'])[1]))\n",
    "\n",
    "print('{0:.3f}'.format(orders[orders['group']=='B']['revenue'].mean()/orders[orders['group']=='A']['revenue'].mean()-1)) "
   ]
  },
  {
   "cell_type": "markdown",
   "metadata": {},
   "source": [
    "P-value значительно больше 0.05. Значит, причин отвергать нулевую гипотезу и считать, что в среднем чеке есть различия, нет. Впрочем, средний чек группы B значительно выше среднего чека группы A.\n",
    "\n",
    "Посмотрим как измениться P-value после очищения данных"
   ]
  },
  {
   "cell_type": "markdown",
   "metadata": {},
   "source": [
    "### Cтатистическая значимость различий в конверсии между группами по «очищенным» данным"
   ]
  },
  {
   "cell_type": "markdown",
   "metadata": {},
   "source": [
    "Примем за аномальных пользователей тех, кто совершил от 2 заказов или совершил заказ дороже 28 000 рублей. Так мы уберём 5% пользователей с наибольшим числом заказов и от 1% до 5% пользователей с дорогими заказами. Сделаем срезы пользователей:\n",
    "- с числом заказов больше 2 — `usersWithManyOrders` \n",
    "- и пользователей, совершивших заказы дороже 28 000 — `usersWithExpensiveOrders`.\n",
    "\n",
    "Объединим их в таблице `abnormalUsers`."
   ]
  },
  {
   "cell_type": "code",
   "execution_count": 31,
   "metadata": {},
   "outputs": [
    {
     "name": "stdout",
     "output_type": "stream",
     "text": [
      "1099    148427295\n",
      "18      199603092\n",
      "928     204675465\n",
      "23      237748145\n",
      "37      249864742\n",
      "dtype: int64\n",
      "(74,)\n"
     ]
    }
   ],
   "source": [
    "usersWithManyOrders = pd.concat(\n",
    "    [\n",
    "        ordersByUsersA[ordersByUsersA['orders'] > 2]['user_id'],\n",
    "        ordersByUsersB[ordersByUsersB['orders'] > 2]['user_id'],\n",
    "    ],\n",
    "    axis=0,\n",
    ")\n",
    "usersWithExpensiveOrders = orders[orders['revenue'] > 28000]['visitor_id']\n",
    "abnormalUsers = (\n",
    "    pd.concat([usersWithManyOrders, usersWithExpensiveOrders], axis=0)\n",
    "    .drop_duplicates()\n",
    "    .sort_values()\n",
    ")\n",
    "print(abnormalUsers.head(5))\n",
    "print(abnormalUsers.shape)"
   ]
  },
  {
   "cell_type": "markdown",
   "metadata": {},
   "source": [
    "74 аномальных пользователей.\n",
    "Узнаем, как их действия повлияли на результаты теста. Посчитаем статистическую значимость различий в конверсии между группами теста по очищенным данным. Сначала подготовим выборки количества заказов по пользователям по группам теста:"
   ]
  },
  {
   "cell_type": "code",
   "execution_count": 32,
   "metadata": {},
   "outputs": [],
   "source": [
    "sampleAFiltered = pd.concat(\n",
    "    [\n",
    "        ordersByUsersA[\n",
    "            np.logical_not(ordersByUsersA['user_id'].isin(abnormalUsers))\n",
    "        ]['orders'],\n",
    "        pd.Series(\n",
    "            0,\n",
    "            index=np.arange(\n",
    "                data['visitorsPerDateA'].sum() - len(ordersByUsersA['orders'])\n",
    "            ),\n",
    "            name='orders',\n",
    "        ),\n",
    "    ],\n",
    "    axis=0,\n",
    ")\n",
    "\n",
    "sampleBFiltered = pd.concat(\n",
    "    [\n",
    "        ordersByUsersB[\n",
    "            np.logical_not(ordersByUsersB['user_id'].isin(abnormalUsers))\n",
    "        ]['orders'],\n",
    "        pd.Series(\n",
    "            0,\n",
    "            index=np.arange(\n",
    "                data['visitorsPerDateB'].sum() - len(ordersByUsersB['orders'])\n",
    "            ),\n",
    "            name='orders',\n",
    "        ),\n",
    "    ],\n",
    "    axis=0,\n",
    ") "
   ]
  },
  {
   "cell_type": "code",
   "execution_count": 33,
   "metadata": {},
   "outputs": [
    {
     "name": "stdout",
     "output_type": "stream",
     "text": [
      "0.013\n",
      "0.173\n"
     ]
    }
   ],
   "source": [
    "print('{0:.3f}'.format(stats.mannwhitneyu(sampleAFiltered, sampleBFiltered)[1]))\n",
    "print('{0:.3f}'.format(sampleBFiltered.mean()/sampleAFiltered.mean()-1)) "
   ]
  },
  {
   "cell_type": "markdown",
   "metadata": {},
   "source": [
    "Результаты по конверсии практически не изменились. Посмотрим результаты по среднему чеку"
   ]
  },
  {
   "cell_type": "markdown",
   "metadata": {},
   "source": [
    "### Cтатистическая значимость различий в среднем чеке заказа между группами по «очищенным» данным"
   ]
  },
  {
   "cell_type": "code",
   "execution_count": 34,
   "metadata": {},
   "outputs": [
    {
     "name": "stdout",
     "output_type": "stream",
     "text": [
      "0.738\n",
      "-0.020\n"
     ]
    }
   ],
   "source": [
    "print(\n",
    "    '{0:.3f}'.format(\n",
    "        stats.mannwhitneyu(\n",
    "            orders[\n",
    "                np.logical_and(\n",
    "                    orders['group'] == 'A',\n",
    "                    np.logical_not(orders['visitor_id'].isin(abnormalUsers)),\n",
    "                )\n",
    "            ]['revenue'],\n",
    "            orders[\n",
    "                np.logical_and(\n",
    "                    orders['group'] == 'B',\n",
    "                    np.logical_not(orders['visitor_id'].isin(abnormalUsers)),\n",
    "                )\n",
    "            ]['revenue'],\n",
    "        )[1]\n",
    "    )\n",
    ")\n",
    "\n",
    "print(\n",
    "    \"{0:.3f}\".format(\n",
    "        orders[\n",
    "            np.logical_and(\n",
    "                orders['group'] == 'B',\n",
    "                np.logical_not(orders['visitor_id'].isin(abnormalUsers)),\n",
    "            )\n",
    "        ]['revenue'].mean()\n",
    "        / orders[\n",
    "            np.logical_and(\n",
    "                orders['group'] == 'A',\n",
    "                np.logical_not(orders['visitor_id'].isin(abnormalUsers)),\n",
    "            )\n",
    "        ]['revenue'].mean()\n",
    "        - 1\n",
    "    )\n",
    ") "
   ]
  },
  {
   "cell_type": "markdown",
   "metadata": {},
   "source": [
    "P-value практически не изменился, а относительная разница между группами кординально поменялась, если на \"сырых\" данных средний чек группы B был значительно выше среднего чека группы A, то после очищения мы видим что средний чек группы В ниже среднего чека группы А. Что говорит нам о заказах на большие суммы в гроуппе В"
   ]
  },
  {
   "cell_type": "markdown",
   "metadata": {},
   "source": [
    "## Вывод"
   ]
  },
  {
   "cell_type": "markdown",
   "metadata": {},
   "source": [
    "Имеющиеся факты:\n",
    "- Нет статистически значимого различия по конверсии между группами ни по «сырым», ни по данным после фильтрации аномалий;\n",
    "- Нет статистически значимого различия по среднему чеку между группами ни по «сырым», ни по данным после фильтрации аномалий;\n",
    "\n",
    "Исходя из обнаруженных фактов, тест следует остановить и признать его неуспешным. Продолжать смысла нет, потому как вероятность, что при имеющихся данных сегмент B на самом деле лучше сегмента A — практически нулевая."
   ]
  }
 ],
 "metadata": {
  "ExecuteTimeLog": [
   {
    "duration": 420,
    "start_time": "2022-04-06T06:21:54.915Z"
   },
   {
    "duration": 16,
    "start_time": "2022-04-06T06:22:54.200Z"
   },
   {
    "duration": 35,
    "start_time": "2022-04-06T06:24:07.935Z"
   },
   {
    "duration": 3,
    "start_time": "2022-04-06T06:25:56.525Z"
   },
   {
    "duration": 24,
    "start_time": "2022-04-06T06:26:10.509Z"
   },
   {
    "duration": 1893,
    "start_time": "2022-04-06T06:46:30.546Z"
   },
   {
    "duration": 5,
    "start_time": "2022-04-06T06:48:43.327Z"
   },
   {
    "duration": 17,
    "start_time": "2022-04-06T06:48:46.239Z"
   },
   {
    "duration": 10,
    "start_time": "2022-04-06T06:48:56.706Z"
   },
   {
    "duration": 11,
    "start_time": "2022-04-06T06:49:19.039Z"
   },
   {
    "duration": 10,
    "start_time": "2022-04-06T06:50:40.351Z"
   },
   {
    "duration": 40,
    "start_time": "2022-04-06T07:44:36.620Z"
   },
   {
    "duration": 5,
    "start_time": "2022-04-06T08:25:53.257Z"
   },
   {
    "duration": 13,
    "start_time": "2022-04-06T09:03:52.722Z"
   },
   {
    "duration": 44,
    "start_time": "2022-04-06T09:04:08.551Z"
   },
   {
    "duration": 3,
    "start_time": "2022-04-06T09:04:26.617Z"
   },
   {
    "duration": 36,
    "start_time": "2022-04-06T09:04:32.448Z"
   },
   {
    "duration": 15,
    "start_time": "2022-04-06T09:05:40.191Z"
   },
   {
    "duration": 3,
    "start_time": "2022-04-06T09:06:02.047Z"
   },
   {
    "duration": 18,
    "start_time": "2022-04-06T09:06:08.303Z"
   },
   {
    "duration": 142,
    "start_time": "2022-04-06T09:08:53.844Z"
   },
   {
    "duration": 10,
    "start_time": "2022-04-06T09:09:03.597Z"
   },
   {
    "duration": 151,
    "start_time": "2022-04-06T09:13:27.691Z"
   },
   {
    "duration": 14,
    "start_time": "2022-04-06T09:13:54.353Z"
   },
   {
    "duration": 8,
    "start_time": "2022-04-06T09:16:00.762Z"
   },
   {
    "duration": 43,
    "start_time": "2022-04-06T09:16:08.769Z"
   },
   {
    "duration": 5,
    "start_time": "2022-04-06T09:16:09.570Z"
   },
   {
    "duration": 4,
    "start_time": "2022-04-06T09:16:10.665Z"
   },
   {
    "duration": 35,
    "start_time": "2022-04-06T09:16:11.273Z"
   },
   {
    "duration": 102,
    "start_time": "2022-04-06T09:16:17.473Z"
   },
   {
    "duration": 146,
    "start_time": "2022-04-06T09:16:20.640Z"
   },
   {
    "duration": 23,
    "start_time": "2022-04-06T09:34:28.118Z"
   },
   {
    "duration": 6,
    "start_time": "2022-04-06T09:35:16.246Z"
   },
   {
    "duration": 11,
    "start_time": "2022-04-06T09:35:25.526Z"
   },
   {
    "duration": 415,
    "start_time": "2022-04-06T09:58:22.150Z"
   },
   {
    "duration": 242,
    "start_time": "2022-04-06T09:58:48.390Z"
   },
   {
    "duration": 235,
    "start_time": "2022-04-06T09:59:14.397Z"
   },
   {
    "duration": 278,
    "start_time": "2022-04-06T10:17:31.408Z"
   },
   {
    "duration": 315,
    "start_time": "2022-04-06T10:22:30.669Z"
   },
   {
    "duration": 122,
    "start_time": "2022-04-06T10:24:32.092Z"
   },
   {
    "duration": 103,
    "start_time": "2022-04-06T10:24:44.723Z"
   },
   {
    "duration": 310,
    "start_time": "2022-04-06T10:25:03.491Z"
   },
   {
    "duration": 275,
    "start_time": "2022-04-06T10:25:20.579Z"
   },
   {
    "duration": 631,
    "start_time": "2022-04-06T10:33:19.926Z"
   },
   {
    "duration": 3,
    "start_time": "2022-04-06T10:34:02.660Z"
   },
   {
    "duration": 448,
    "start_time": "2022-04-06T10:34:07.124Z"
   },
   {
    "duration": 2,
    "start_time": "2022-04-06T10:37:02.786Z"
   },
   {
    "duration": 428,
    "start_time": "2022-04-06T10:37:05.266Z"
   },
   {
    "duration": 3,
    "start_time": "2022-04-06T10:37:20.234Z"
   },
   {
    "duration": 3,
    "start_time": "2022-04-06T10:51:19.370Z"
   },
   {
    "duration": 3,
    "start_time": "2022-04-06T10:51:21.991Z"
   },
   {
    "duration": 12,
    "start_time": "2022-04-06T10:51:26.127Z"
   },
   {
    "duration": 270,
    "start_time": "2022-04-06T10:51:34.327Z"
   },
   {
    "duration": 699,
    "start_time": "2022-04-06T10:51:44.914Z"
   },
   {
    "duration": 43,
    "start_time": "2022-04-06T10:51:45.615Z"
   },
   {
    "duration": 5,
    "start_time": "2022-04-06T10:51:45.660Z"
   },
   {
    "duration": 8,
    "start_time": "2022-04-06T10:51:45.667Z"
   },
   {
    "duration": 17,
    "start_time": "2022-04-06T10:51:45.676Z"
   },
   {
    "duration": 44,
    "start_time": "2022-04-06T10:51:45.695Z"
   },
   {
    "duration": 11,
    "start_time": "2022-04-06T10:51:45.741Z"
   },
   {
    "duration": 11,
    "start_time": "2022-04-06T10:51:45.753Z"
   },
   {
    "duration": 8,
    "start_time": "2022-04-06T10:51:45.765Z"
   },
   {
    "duration": 179,
    "start_time": "2022-04-06T10:51:45.775Z"
   },
   {
    "duration": 537,
    "start_time": "2022-04-06T10:51:45.955Z"
   },
   {
    "duration": 0,
    "start_time": "2022-04-06T10:51:46.495Z"
   },
   {
    "duration": 0,
    "start_time": "2022-04-06T10:51:46.496Z"
   },
   {
    "duration": 678,
    "start_time": "2022-04-06T10:55:26.317Z"
   },
   {
    "duration": 36,
    "start_time": "2022-04-06T10:55:26.997Z"
   },
   {
    "duration": 4,
    "start_time": "2022-04-06T10:55:27.035Z"
   },
   {
    "duration": 6,
    "start_time": "2022-04-06T10:55:27.041Z"
   },
   {
    "duration": 43,
    "start_time": "2022-04-06T10:55:27.049Z"
   },
   {
    "duration": 11,
    "start_time": "2022-04-06T10:55:27.093Z"
   },
   {
    "duration": 10,
    "start_time": "2022-04-06T10:55:27.105Z"
   },
   {
    "duration": 24,
    "start_time": "2022-04-06T10:55:27.117Z"
   },
   {
    "duration": 157,
    "start_time": "2022-04-06T10:55:27.143Z"
   },
   {
    "duration": 111,
    "start_time": "2022-04-06T10:55:27.302Z"
   },
   {
    "duration": 9,
    "start_time": "2022-04-06T10:55:27.415Z"
   },
   {
    "duration": 291,
    "start_time": "2022-04-06T10:55:27.438Z"
   },
   {
    "duration": 267,
    "start_time": "2022-04-06T10:56:04.226Z"
   },
   {
    "duration": 274,
    "start_time": "2022-04-06T10:56:17.857Z"
   },
   {
    "duration": 289,
    "start_time": "2022-04-06T11:01:40.022Z"
   },
   {
    "duration": 280,
    "start_time": "2022-04-06T11:02:24.606Z"
   },
   {
    "duration": 130,
    "start_time": "2022-04-06T11:02:36.472Z"
   },
   {
    "duration": 286,
    "start_time": "2022-04-06T11:02:44.365Z"
   },
   {
    "duration": 273,
    "start_time": "2022-04-06T11:04:59.267Z"
   },
   {
    "duration": 275,
    "start_time": "2022-04-06T11:06:51.267Z"
   },
   {
    "duration": 281,
    "start_time": "2022-04-06T11:06:58.642Z"
   },
   {
    "duration": 282,
    "start_time": "2022-04-06T11:07:07.106Z"
   },
   {
    "duration": 283,
    "start_time": "2022-04-06T11:08:10.241Z"
   },
   {
    "duration": 303,
    "start_time": "2022-04-06T12:11:43.241Z"
   },
   {
    "duration": 279,
    "start_time": "2022-04-06T12:11:51.054Z"
   },
   {
    "duration": 127,
    "start_time": "2022-04-06T12:12:13.582Z"
   },
   {
    "duration": 368,
    "start_time": "2022-04-06T12:12:26.143Z"
   },
   {
    "duration": 126,
    "start_time": "2022-04-06T12:14:14.973Z"
   },
   {
    "duration": 275,
    "start_time": "2022-04-06T12:14:48.620Z"
   },
   {
    "duration": 284,
    "start_time": "2022-04-06T12:14:59.676Z"
   },
   {
    "duration": 281,
    "start_time": "2022-04-06T12:15:07.276Z"
   },
   {
    "duration": 280,
    "start_time": "2022-04-06T12:17:58.761Z"
   },
   {
    "duration": 278,
    "start_time": "2022-04-06T12:18:11.026Z"
   },
   {
    "duration": 323,
    "start_time": "2022-04-06T12:18:25.289Z"
   },
   {
    "duration": 273,
    "start_time": "2022-04-06T12:18:36.857Z"
   },
   {
    "duration": 272,
    "start_time": "2022-04-06T12:18:50.321Z"
   },
   {
    "duration": 278,
    "start_time": "2022-04-06T12:18:55.897Z"
   },
   {
    "duration": 280,
    "start_time": "2022-04-06T12:19:05.403Z"
   },
   {
    "duration": 385,
    "start_time": "2022-04-06T12:19:13.776Z"
   },
   {
    "duration": 281,
    "start_time": "2022-04-06T12:19:25.409Z"
   },
   {
    "duration": 282,
    "start_time": "2022-04-06T12:57:44.308Z"
   },
   {
    "duration": 227,
    "start_time": "2022-04-06T12:58:38.458Z"
   },
   {
    "duration": 278,
    "start_time": "2022-04-06T12:59:18.691Z"
   },
   {
    "duration": 278,
    "start_time": "2022-04-06T12:59:39.626Z"
   },
   {
    "duration": 151,
    "start_time": "2022-04-06T13:00:03.562Z"
   },
   {
    "duration": 288,
    "start_time": "2022-04-06T13:00:15.281Z"
   },
   {
    "duration": 302,
    "start_time": "2022-04-06T13:00:27.002Z"
   },
   {
    "duration": 278,
    "start_time": "2022-04-06T13:00:43.370Z"
   },
   {
    "duration": 336,
    "start_time": "2022-04-06T14:08:29.935Z"
   },
   {
    "duration": 359,
    "start_time": "2022-04-06T14:09:09.990Z"
   },
   {
    "duration": 444,
    "start_time": "2022-04-06T14:09:31.199Z"
   },
   {
    "duration": 368,
    "start_time": "2022-04-06T14:10:58.494Z"
   },
   {
    "duration": 151,
    "start_time": "2022-04-06T14:17:14.174Z"
   },
   {
    "duration": 1857,
    "start_time": "2022-04-06T14:17:40.373Z"
   },
   {
    "duration": 4,
    "start_time": "2022-04-06T14:17:48.997Z"
   },
   {
    "duration": 4,
    "start_time": "2022-04-06T14:18:08.157Z"
   },
   {
    "duration": 236,
    "start_time": "2022-04-06T14:18:20.091Z"
   },
   {
    "duration": 248,
    "start_time": "2022-04-06T14:20:06.154Z"
   },
   {
    "duration": 230,
    "start_time": "2022-04-06T14:20:33.164Z"
   },
   {
    "duration": 301,
    "start_time": "2022-04-06T14:20:57.581Z"
   },
   {
    "duration": 294,
    "start_time": "2022-04-06T14:21:14.532Z"
   },
   {
    "duration": 296,
    "start_time": "2022-04-06T14:21:27.558Z"
   },
   {
    "duration": 372,
    "start_time": "2022-04-06T14:28:36.912Z"
   },
   {
    "duration": 363,
    "start_time": "2022-04-06T14:32:29.086Z"
   },
   {
    "duration": 403,
    "start_time": "2022-04-06T14:33:45.782Z"
   },
   {
    "duration": 374,
    "start_time": "2022-04-06T14:34:44.293Z"
   },
   {
    "duration": 9,
    "start_time": "2022-04-06T14:53:56.969Z"
   },
   {
    "duration": 12,
    "start_time": "2022-04-06T15:14:53.517Z"
   },
   {
    "duration": 14,
    "start_time": "2022-04-06T15:15:51.596Z"
   },
   {
    "duration": 9,
    "start_time": "2022-04-06T15:16:20.188Z"
   },
   {
    "duration": 13,
    "start_time": "2022-04-06T15:16:29.659Z"
   },
   {
    "duration": 10,
    "start_time": "2022-04-06T15:16:38.387Z"
   },
   {
    "duration": 104,
    "start_time": "2022-04-06T15:17:32.299Z"
   },
   {
    "duration": 103,
    "start_time": "2022-04-06T15:17:44.369Z"
   },
   {
    "duration": 621,
    "start_time": "2022-04-08T10:10:43.282Z"
   },
   {
    "duration": 36,
    "start_time": "2022-04-08T10:10:43.905Z"
   },
   {
    "duration": 4,
    "start_time": "2022-04-08T10:10:43.943Z"
   },
   {
    "duration": 9,
    "start_time": "2022-04-08T10:10:43.948Z"
   },
   {
    "duration": 43,
    "start_time": "2022-04-08T10:10:43.959Z"
   },
   {
    "duration": 37,
    "start_time": "2022-04-08T10:10:44.003Z"
   },
   {
    "duration": 11,
    "start_time": "2022-04-08T10:10:44.041Z"
   },
   {
    "duration": 7,
    "start_time": "2022-04-08T10:10:44.054Z"
   },
   {
    "duration": 168,
    "start_time": "2022-04-08T10:10:44.063Z"
   },
   {
    "duration": 123,
    "start_time": "2022-04-08T10:10:44.233Z"
   },
   {
    "duration": 10,
    "start_time": "2022-04-08T10:10:44.358Z"
   },
   {
    "duration": 307,
    "start_time": "2022-04-08T10:10:44.369Z"
   },
   {
    "duration": 282,
    "start_time": "2022-04-08T10:10:44.677Z"
   },
   {
    "duration": 371,
    "start_time": "2022-04-08T10:10:44.962Z"
   },
   {
    "duration": 309,
    "start_time": "2022-04-08T10:10:45.337Z"
   },
   {
    "duration": 483,
    "start_time": "2022-04-08T10:10:45.648Z"
   },
   {
    "duration": 9,
    "start_time": "2022-04-08T10:10:46.137Z"
   },
   {
    "duration": 113,
    "start_time": "2022-04-08T10:10:46.148Z"
   },
   {
    "duration": 58,
    "start_time": "2022-04-08T10:22:39.872Z"
   },
   {
    "duration": 45,
    "start_time": "2022-04-08T10:24:10.052Z"
   },
   {
    "duration": 84,
    "start_time": "2022-04-08T10:25:46.467Z"
   },
   {
    "duration": 48,
    "start_time": "2022-04-08T10:26:02.314Z"
   },
   {
    "duration": 41,
    "start_time": "2022-04-08T10:28:53.652Z"
   },
   {
    "duration": 611,
    "start_time": "2022-04-08T10:31:09.196Z"
   },
   {
    "duration": 40,
    "start_time": "2022-04-08T10:31:09.809Z"
   },
   {
    "duration": 4,
    "start_time": "2022-04-08T10:31:09.851Z"
   },
   {
    "duration": 53,
    "start_time": "2022-04-08T10:31:09.857Z"
   },
   {
    "duration": 37,
    "start_time": "2022-04-08T10:31:09.912Z"
   },
   {
    "duration": 11,
    "start_time": "2022-04-08T10:31:09.950Z"
   },
   {
    "duration": 6,
    "start_time": "2022-04-08T10:31:09.963Z"
   },
   {
    "duration": 103,
    "start_time": "2022-04-08T10:31:09.970Z"
   },
   {
    "duration": 0,
    "start_time": "2022-04-08T10:31:10.076Z"
   },
   {
    "duration": 0,
    "start_time": "2022-04-08T10:31:10.077Z"
   },
   {
    "duration": 0,
    "start_time": "2022-04-08T10:31:10.079Z"
   },
   {
    "duration": 0,
    "start_time": "2022-04-08T10:31:10.080Z"
   },
   {
    "duration": 0,
    "start_time": "2022-04-08T10:31:10.081Z"
   },
   {
    "duration": 0,
    "start_time": "2022-04-08T10:31:10.083Z"
   },
   {
    "duration": 0,
    "start_time": "2022-04-08T10:31:10.084Z"
   },
   {
    "duration": 0,
    "start_time": "2022-04-08T10:31:10.086Z"
   },
   {
    "duration": 0,
    "start_time": "2022-04-08T10:31:10.087Z"
   },
   {
    "duration": 657,
    "start_time": "2022-04-08T10:33:19.742Z"
   },
   {
    "duration": 36,
    "start_time": "2022-04-08T10:33:20.401Z"
   },
   {
    "duration": 47,
    "start_time": "2022-04-08T10:33:20.439Z"
   },
   {
    "duration": 3,
    "start_time": "2022-04-08T10:33:20.488Z"
   },
   {
    "duration": 13,
    "start_time": "2022-04-08T10:33:20.493Z"
   },
   {
    "duration": 37,
    "start_time": "2022-04-08T10:33:20.508Z"
   },
   {
    "duration": 4,
    "start_time": "2022-04-08T10:33:20.547Z"
   },
   {
    "duration": 156,
    "start_time": "2022-04-08T10:33:20.553Z"
   },
   {
    "duration": 113,
    "start_time": "2022-04-08T10:33:20.710Z"
   },
   {
    "duration": 18,
    "start_time": "2022-04-08T10:33:20.826Z"
   },
   {
    "duration": 299,
    "start_time": "2022-04-08T10:33:20.846Z"
   },
   {
    "duration": 294,
    "start_time": "2022-04-08T10:33:21.147Z"
   },
   {
    "duration": 384,
    "start_time": "2022-04-08T10:33:21.442Z"
   },
   {
    "duration": 309,
    "start_time": "2022-04-08T10:33:21.828Z"
   },
   {
    "duration": 485,
    "start_time": "2022-04-08T10:33:22.139Z"
   },
   {
    "duration": 18,
    "start_time": "2022-04-08T10:33:22.626Z"
   },
   {
    "duration": 105,
    "start_time": "2022-04-08T10:33:22.646Z"
   },
   {
    "duration": 876,
    "start_time": "2022-04-09T16:31:58.091Z"
   },
   {
    "duration": 46,
    "start_time": "2022-04-09T16:31:58.970Z"
   },
   {
    "duration": 69,
    "start_time": "2022-04-09T16:31:59.019Z"
   },
   {
    "duration": 4,
    "start_time": "2022-04-09T16:31:59.090Z"
   },
   {
    "duration": 29,
    "start_time": "2022-04-09T16:31:59.096Z"
   },
   {
    "duration": 14,
    "start_time": "2022-04-09T16:31:59.140Z"
   },
   {
    "duration": 13,
    "start_time": "2022-04-09T16:31:59.156Z"
   },
   {
    "duration": 249,
    "start_time": "2022-04-09T16:31:59.171Z"
   },
   {
    "duration": 155,
    "start_time": "2022-04-09T16:31:59.422Z"
   },
   {
    "duration": 10,
    "start_time": "2022-04-09T16:31:59.580Z"
   },
   {
    "duration": 338,
    "start_time": "2022-04-09T16:31:59.592Z"
   },
   {
    "duration": 310,
    "start_time": "2022-04-09T16:31:59.932Z"
   },
   {
    "duration": 505,
    "start_time": "2022-04-09T16:32:00.244Z"
   },
   {
    "duration": 342,
    "start_time": "2022-04-09T16:32:00.750Z"
   },
   {
    "duration": 520,
    "start_time": "2022-04-09T16:32:01.094Z"
   },
   {
    "duration": 24,
    "start_time": "2022-04-09T16:32:01.616Z"
   },
   {
    "duration": 129,
    "start_time": "2022-04-09T16:32:01.642Z"
   },
   {
    "duration": 11,
    "start_time": "2022-04-09T18:34:45.438Z"
   },
   {
    "duration": 129,
    "start_time": "2022-04-09T18:41:00.018Z"
   },
   {
    "duration": 128,
    "start_time": "2022-04-09T18:41:29.267Z"
   },
   {
    "duration": 128,
    "start_time": "2022-04-09T18:41:56.834Z"
   },
   {
    "duration": 128,
    "start_time": "2022-04-09T18:42:38.559Z"
   },
   {
    "duration": 79,
    "start_time": "2022-04-09T18:43:25.914Z"
   },
   {
    "duration": 6,
    "start_time": "2022-04-09T18:43:31.390Z"
   },
   {
    "duration": 9,
    "start_time": "2022-04-09T18:43:39.323Z"
   },
   {
    "duration": 6,
    "start_time": "2022-04-09T18:44:13.715Z"
   },
   {
    "duration": 108,
    "start_time": "2022-04-09T19:01:10.955Z"
   },
   {
    "duration": 104,
    "start_time": "2022-04-09T19:01:25.611Z"
   },
   {
    "duration": 113,
    "start_time": "2022-04-09T19:02:09.564Z"
   },
   {
    "duration": 5,
    "start_time": "2022-04-09T20:13:00.291Z"
   },
   {
    "duration": 4,
    "start_time": "2022-04-09T20:26:48.371Z"
   },
   {
    "duration": 8,
    "start_time": "2022-04-09T20:34:43.956Z"
   },
   {
    "duration": 2209,
    "start_time": "2022-04-09T20:36:09.932Z"
   },
   {
    "duration": 9,
    "start_time": "2022-04-09T20:36:16.628Z"
   },
   {
    "duration": 9,
    "start_time": "2022-04-09T20:37:22.909Z"
   },
   {
    "duration": 128,
    "start_time": "2022-04-09T20:37:54.780Z"
   },
   {
    "duration": 157,
    "start_time": "2022-04-09T20:39:07.517Z"
   },
   {
    "duration": 14,
    "start_time": "2022-04-09T20:39:13.693Z"
   },
   {
    "duration": 121,
    "start_time": "2022-04-09T20:39:52.141Z"
   },
   {
    "duration": 715,
    "start_time": "2022-04-09T20:40:10.895Z"
   },
   {
    "duration": 40,
    "start_time": "2022-04-09T20:40:11.612Z"
   },
   {
    "duration": 57,
    "start_time": "2022-04-09T20:40:11.653Z"
   },
   {
    "duration": 4,
    "start_time": "2022-04-09T20:40:11.711Z"
   },
   {
    "duration": 13,
    "start_time": "2022-04-09T20:40:11.738Z"
   },
   {
    "duration": 12,
    "start_time": "2022-04-09T20:40:11.753Z"
   },
   {
    "duration": 101,
    "start_time": "2022-04-09T20:40:11.767Z"
   },
   {
    "duration": 6,
    "start_time": "2022-04-09T20:40:11.870Z"
   },
   {
    "duration": 180,
    "start_time": "2022-04-09T20:40:11.878Z"
   },
   {
    "duration": 125,
    "start_time": "2022-04-09T20:40:12.060Z"
   },
   {
    "duration": 12,
    "start_time": "2022-04-09T20:40:12.187Z"
   },
   {
    "duration": 328,
    "start_time": "2022-04-09T20:40:12.201Z"
   },
   {
    "duration": 300,
    "start_time": "2022-04-09T20:40:12.539Z"
   },
   {
    "duration": 415,
    "start_time": "2022-04-09T20:40:12.842Z"
   },
   {
    "duration": 398,
    "start_time": "2022-04-09T20:40:13.259Z"
   },
   {
    "duration": 423,
    "start_time": "2022-04-09T20:40:13.659Z"
   },
   {
    "duration": 10,
    "start_time": "2022-04-09T20:40:14.084Z"
   },
   {
    "duration": 122,
    "start_time": "2022-04-09T20:40:14.096Z"
   },
   {
    "duration": 119,
    "start_time": "2022-04-09T20:40:14.220Z"
   },
   {
    "duration": 5,
    "start_time": "2022-04-09T20:40:14.340Z"
   },
   {
    "duration": 21,
    "start_time": "2022-04-09T20:40:14.346Z"
   },
   {
    "duration": 143,
    "start_time": "2022-04-09T20:40:14.368Z"
   },
   {
    "duration": 124,
    "start_time": "2022-04-09T20:41:00.945Z"
   },
   {
    "duration": 133,
    "start_time": "2022-04-09T20:41:11.142Z"
   },
   {
    "duration": 120,
    "start_time": "2022-04-09T20:41:14.519Z"
   },
   {
    "duration": 126,
    "start_time": "2022-04-09T20:41:20.190Z"
   },
   {
    "duration": 165,
    "start_time": "2022-04-09T20:41:41.912Z"
   },
   {
    "duration": 6,
    "start_time": "2022-04-09T20:43:58.736Z"
   },
   {
    "duration": 10,
    "start_time": "2022-04-09T20:44:06.751Z"
   },
   {
    "duration": 76,
    "start_time": "2022-04-09T20:44:41.764Z"
   },
   {
    "duration": 10,
    "start_time": "2022-04-09T20:44:50.938Z"
   },
   {
    "duration": 11,
    "start_time": "2022-04-09T20:45:25.024Z"
   },
   {
    "duration": 10,
    "start_time": "2022-04-09T20:46:10.320Z"
   },
   {
    "duration": 129,
    "start_time": "2022-04-09T20:49:10.819Z"
   },
   {
    "duration": 192,
    "start_time": "2022-04-09T20:49:27.061Z"
   },
   {
    "duration": 135,
    "start_time": "2022-04-09T20:49:40.237Z"
   },
   {
    "duration": 137,
    "start_time": "2022-04-09T20:49:50.043Z"
   },
   {
    "duration": 127,
    "start_time": "2022-04-09T20:50:45.444Z"
   },
   {
    "duration": 129,
    "start_time": "2022-04-09T20:51:41.388Z"
   },
   {
    "duration": 128,
    "start_time": "2022-04-09T20:51:48.212Z"
   },
   {
    "duration": 128,
    "start_time": "2022-04-09T20:51:56.922Z"
   },
   {
    "duration": 133,
    "start_time": "2022-04-09T20:52:08.616Z"
   },
   {
    "duration": 131,
    "start_time": "2022-04-09T20:52:36.822Z"
   },
   {
    "duration": 133,
    "start_time": "2022-04-09T20:53:03.276Z"
   },
   {
    "duration": 129,
    "start_time": "2022-04-09T20:53:23.796Z"
   },
   {
    "duration": 300,
    "start_time": "2022-04-09T20:53:57.958Z"
   },
   {
    "duration": 1221,
    "start_time": "2022-04-09T20:54:07.780Z"
   },
   {
    "duration": 132,
    "start_time": "2022-04-09T20:54:20.975Z"
   },
   {
    "duration": 1304,
    "start_time": "2022-04-09T20:54:26.908Z"
   },
   {
    "duration": 1282,
    "start_time": "2022-04-09T20:54:49.213Z"
   },
   {
    "duration": 651,
    "start_time": "2022-04-09T20:54:55.369Z"
   },
   {
    "duration": 835,
    "start_time": "2022-04-09T20:56:06.366Z"
   },
   {
    "duration": 650,
    "start_time": "2022-04-09T20:56:38.448Z"
   },
   {
    "duration": 131,
    "start_time": "2022-04-09T20:57:13.031Z"
   },
   {
    "duration": 766,
    "start_time": "2022-04-09T20:57:17.502Z"
   },
   {
    "duration": 783,
    "start_time": "2022-04-09T20:59:11.531Z"
   },
   {
    "duration": 926,
    "start_time": "2022-04-09T20:59:27.018Z"
   },
   {
    "duration": 834,
    "start_time": "2022-04-09T21:00:01.456Z"
   },
   {
    "duration": 673,
    "start_time": "2022-04-09T21:01:16.333Z"
   },
   {
    "duration": 159,
    "start_time": "2022-04-09T21:02:54.643Z"
   },
   {
    "duration": 125,
    "start_time": "2022-04-09T21:03:32.941Z"
   },
   {
    "duration": 121,
    "start_time": "2022-04-09T21:03:43.115Z"
   },
   {
    "duration": 340,
    "start_time": "2022-04-09T21:04:00.182Z"
   },
   {
    "duration": 13,
    "start_time": "2022-04-09T21:04:58.446Z"
   },
   {
    "duration": 662,
    "start_time": "2022-04-09T21:05:11.820Z"
   },
   {
    "duration": 786,
    "start_time": "2022-04-09T21:05:19.476Z"
   },
   {
    "duration": 2157,
    "start_time": "2022-04-09T21:08:12.237Z"
   },
   {
    "duration": 4,
    "start_time": "2022-04-09T21:08:58.688Z"
   },
   {
    "duration": 5,
    "start_time": "2022-04-09T21:09:06.141Z"
   },
   {
    "duration": 135,
    "start_time": "2022-04-09T21:14:21.312Z"
   },
   {
    "duration": 682,
    "start_time": "2022-04-09T21:18:19.471Z"
   },
   {
    "duration": 39,
    "start_time": "2022-04-09T21:18:20.155Z"
   },
   {
    "duration": 59,
    "start_time": "2022-04-09T21:18:20.196Z"
   },
   {
    "duration": 3,
    "start_time": "2022-04-09T21:18:20.257Z"
   },
   {
    "duration": 24,
    "start_time": "2022-04-09T21:18:20.263Z"
   },
   {
    "duration": 15,
    "start_time": "2022-04-09T21:18:20.289Z"
   },
   {
    "duration": 82,
    "start_time": "2022-04-09T21:18:20.306Z"
   },
   {
    "duration": 6,
    "start_time": "2022-04-09T21:18:20.389Z"
   },
   {
    "duration": 173,
    "start_time": "2022-04-09T21:18:20.397Z"
   },
   {
    "duration": 124,
    "start_time": "2022-04-09T21:18:20.572Z"
   },
   {
    "duration": 14,
    "start_time": "2022-04-09T21:18:20.698Z"
   },
   {
    "duration": 327,
    "start_time": "2022-04-09T21:18:20.714Z"
   },
   {
    "duration": 303,
    "start_time": "2022-04-09T21:18:21.043Z"
   },
   {
    "duration": 398,
    "start_time": "2022-04-09T21:18:21.349Z"
   },
   {
    "duration": 362,
    "start_time": "2022-04-09T21:18:21.749Z"
   },
   {
    "duration": 449,
    "start_time": "2022-04-09T21:18:22.113Z"
   },
   {
    "duration": 10,
    "start_time": "2022-04-09T21:18:22.563Z"
   },
   {
    "duration": 133,
    "start_time": "2022-04-09T21:18:22.575Z"
   },
   {
    "duration": 138,
    "start_time": "2022-04-09T21:18:22.709Z"
   },
   {
    "duration": 5,
    "start_time": "2022-04-09T21:18:22.849Z"
   },
   {
    "duration": 17,
    "start_time": "2022-04-09T21:18:22.856Z"
   },
   {
    "duration": 645,
    "start_time": "2022-04-09T21:18:22.875Z"
   },
   {
    "duration": 157,
    "start_time": "2022-04-09T21:18:23.522Z"
   },
   {
    "duration": 5,
    "start_time": "2022-04-09T21:18:23.681Z"
   },
   {
    "duration": 262,
    "start_time": "2022-04-09T22:31:38.134Z"
   },
   {
    "duration": 102,
    "start_time": "2022-04-09T22:32:46.212Z"
   },
   {
    "duration": 13,
    "start_time": "2022-04-09T22:33:10.944Z"
   },
   {
    "duration": 99,
    "start_time": "2022-04-09T22:33:51.306Z"
   },
   {
    "duration": 204,
    "start_time": "2022-04-09T22:34:33.249Z"
   },
   {
    "duration": 9,
    "start_time": "2022-04-09T22:40:16.378Z"
   },
   {
    "duration": 9,
    "start_time": "2022-04-09T22:42:14.454Z"
   },
   {
    "duration": 9,
    "start_time": "2022-04-09T22:43:44.242Z"
   },
   {
    "duration": 151,
    "start_time": "2022-04-09T22:51:09.430Z"
   },
   {
    "duration": 124,
    "start_time": "2022-04-09T22:51:24.959Z"
   },
   {
    "duration": 3542,
    "start_time": "2022-04-10T17:04:07.662Z"
   },
   {
    "duration": 63,
    "start_time": "2022-04-10T17:04:11.206Z"
   },
   {
    "duration": 46,
    "start_time": "2022-04-10T17:04:11.271Z"
   },
   {
    "duration": 3,
    "start_time": "2022-04-10T17:04:11.318Z"
   },
   {
    "duration": 13,
    "start_time": "2022-04-10T17:04:11.324Z"
   },
   {
    "duration": 11,
    "start_time": "2022-04-10T17:04:11.339Z"
   },
   {
    "duration": 87,
    "start_time": "2022-04-10T17:04:11.381Z"
   },
   {
    "duration": 14,
    "start_time": "2022-04-10T17:04:11.470Z"
   },
   {
    "duration": 161,
    "start_time": "2022-04-10T17:04:11.486Z"
   },
   {
    "duration": 110,
    "start_time": "2022-04-10T17:04:11.648Z"
   },
   {
    "duration": 23,
    "start_time": "2022-04-10T17:04:11.759Z"
   },
   {
    "duration": 371,
    "start_time": "2022-04-10T17:04:11.783Z"
   },
   {
    "duration": 274,
    "start_time": "2022-04-10T17:04:12.156Z"
   },
   {
    "duration": 455,
    "start_time": "2022-04-10T17:04:12.433Z"
   },
   {
    "duration": 318,
    "start_time": "2022-04-10T17:04:12.890Z"
   },
   {
    "duration": 357,
    "start_time": "2022-04-10T17:04:13.210Z"
   },
   {
    "duration": 12,
    "start_time": "2022-04-10T17:04:13.569Z"
   },
   {
    "duration": 113,
    "start_time": "2022-04-10T17:04:13.583Z"
   },
   {
    "duration": 116,
    "start_time": "2022-04-10T17:04:13.697Z"
   },
   {
    "duration": 4,
    "start_time": "2022-04-10T17:04:13.814Z"
   },
   {
    "duration": 11,
    "start_time": "2022-04-10T17:04:13.820Z"
   },
   {
    "duration": 616,
    "start_time": "2022-04-10T17:04:13.833Z"
   },
   {
    "duration": 147,
    "start_time": "2022-04-10T17:04:14.451Z"
   },
   {
    "duration": 4,
    "start_time": "2022-04-10T17:04:14.599Z"
   },
   {
    "duration": 280,
    "start_time": "2022-04-10T17:04:14.604Z"
   },
   {
    "duration": 149,
    "start_time": "2022-04-10T17:04:14.885Z"
   },
   {
    "duration": 10,
    "start_time": "2022-04-10T17:05:21.108Z"
   },
   {
    "duration": 5,
    "start_time": "2022-04-10T17:13:04.441Z"
   },
   {
    "duration": 5,
    "start_time": "2022-04-10T17:14:54.669Z"
   },
   {
    "duration": 5,
    "start_time": "2022-04-10T17:15:05.127Z"
   },
   {
    "duration": 73,
    "start_time": "2022-04-10T18:21:43.859Z"
   },
   {
    "duration": 7,
    "start_time": "2022-04-10T18:22:31.783Z"
   },
   {
    "duration": 141,
    "start_time": "2022-04-10T18:24:24.701Z"
   },
   {
    "duration": 408,
    "start_time": "2022-04-10T18:25:16.526Z"
   },
   {
    "duration": 158,
    "start_time": "2022-04-10T18:25:22.289Z"
   },
   {
    "duration": 6,
    "start_time": "2022-04-10T18:32:17.380Z"
   },
   {
    "duration": 9,
    "start_time": "2022-04-10T18:34:40.913Z"
   },
   {
    "duration": 2,
    "start_time": "2022-04-10T18:36:43.680Z"
   },
   {
    "duration": 2,
    "start_time": "2022-04-10T18:36:58.647Z"
   },
   {
    "duration": 7,
    "start_time": "2022-04-10T18:53:02.445Z"
   },
   {
    "duration": 3109,
    "start_time": "2022-04-10T18:53:13.299Z"
   },
   {
    "duration": 3048,
    "start_time": "2022-04-10T18:54:06.635Z"
   },
   {
    "duration": 12,
    "start_time": "2022-04-10T18:54:43.930Z"
   },
   {
    "duration": 13,
    "start_time": "2022-04-10T18:55:08.583Z"
   },
   {
    "duration": 9,
    "start_time": "2022-04-10T18:55:49.059Z"
   },
   {
    "duration": 9,
    "start_time": "2022-04-10T18:56:31.915Z"
   },
   {
    "duration": 8,
    "start_time": "2022-04-10T18:56:40.386Z"
   },
   {
    "duration": 8,
    "start_time": "2022-04-10T18:59:11.126Z"
   },
   {
    "duration": 22,
    "start_time": "2022-04-10T18:59:30.852Z"
   },
   {
    "duration": 13,
    "start_time": "2022-04-10T19:02:36.929Z"
   },
   {
    "duration": 1024,
    "start_time": "2022-04-10T19:19:05.596Z"
   },
   {
    "duration": 74,
    "start_time": "2022-04-10T19:19:06.622Z"
   },
   {
    "duration": 45,
    "start_time": "2022-04-10T19:19:06.700Z"
   },
   {
    "duration": 3,
    "start_time": "2022-04-10T19:19:06.746Z"
   },
   {
    "duration": 13,
    "start_time": "2022-04-10T19:19:06.751Z"
   },
   {
    "duration": 20,
    "start_time": "2022-04-10T19:19:06.765Z"
   },
   {
    "duration": 62,
    "start_time": "2022-04-10T19:19:06.786Z"
   },
   {
    "duration": 5,
    "start_time": "2022-04-10T19:19:06.849Z"
   },
   {
    "duration": 158,
    "start_time": "2022-04-10T19:19:06.856Z"
   },
   {
    "duration": 116,
    "start_time": "2022-04-10T19:19:07.015Z"
   },
   {
    "duration": 8,
    "start_time": "2022-04-10T19:19:07.133Z"
   },
   {
    "duration": 273,
    "start_time": "2022-04-10T19:19:07.142Z"
   },
   {
    "duration": 245,
    "start_time": "2022-04-10T19:19:07.417Z"
   },
   {
    "duration": 369,
    "start_time": "2022-04-10T19:19:07.663Z"
   },
   {
    "duration": 268,
    "start_time": "2022-04-10T19:19:08.033Z"
   },
   {
    "duration": 386,
    "start_time": "2022-04-10T19:19:08.303Z"
   },
   {
    "duration": 10,
    "start_time": "2022-04-10T19:19:08.691Z"
   },
   {
    "duration": 115,
    "start_time": "2022-04-10T19:19:08.702Z"
   },
   {
    "duration": 104,
    "start_time": "2022-04-10T19:19:08.818Z"
   },
   {
    "duration": 5,
    "start_time": "2022-04-10T19:19:08.923Z"
   },
   {
    "duration": 11,
    "start_time": "2022-04-10T19:19:08.929Z"
   },
   {
    "duration": 639,
    "start_time": "2022-04-10T19:19:08.942Z"
   },
   {
    "duration": 131,
    "start_time": "2022-04-10T19:19:09.582Z"
   },
   {
    "duration": 4,
    "start_time": "2022-04-10T19:19:09.714Z"
   },
   {
    "duration": 204,
    "start_time": "2022-04-10T19:19:09.720Z"
   },
   {
    "duration": 129,
    "start_time": "2022-04-10T19:19:09.926Z"
   },
   {
    "duration": 4,
    "start_time": "2022-04-10T19:19:10.058Z"
   },
   {
    "duration": 19,
    "start_time": "2022-04-10T19:19:10.064Z"
   },
   {
    "duration": 145,
    "start_time": "2022-04-10T19:19:10.084Z"
   },
   {
    "duration": 9,
    "start_time": "2022-04-10T19:19:10.230Z"
   },
   {
    "duration": 8,
    "start_time": "2022-04-10T19:19:10.240Z"
   },
   {
    "duration": 9,
    "start_time": "2022-04-10T19:19:10.250Z"
   },
   {
    "duration": 36,
    "start_time": "2022-04-10T19:19:10.261Z"
   },
   {
    "duration": 12,
    "start_time": "2022-04-10T19:19:10.298Z"
   },
   {
    "duration": 63,
    "start_time": "2022-04-11T06:26:06.878Z"
   }
  ],
  "kernelspec": {
   "display_name": "Python 3",
   "language": "python",
   "name": "python3"
  },
  "language_info": {
   "codemirror_mode": {
    "name": "ipython",
    "version": 3
   },
   "file_extension": ".py",
   "mimetype": "text/x-python",
   "name": "python",
   "nbconvert_exporter": "python",
   "pygments_lexer": "ipython3",
   "version": "3.8.8"
  },
  "toc": {
   "base_numbering": 1,
   "nav_menu": {},
   "number_sections": true,
   "sideBar": true,
   "skip_h1_title": true,
   "title_cell": "Table of Contents",
   "title_sidebar": "Contents",
   "toc_cell": false,
   "toc_position": {},
   "toc_section_display": true,
   "toc_window_display": true
  }
 },
 "nbformat": 4,
 "nbformat_minor": 2
}
